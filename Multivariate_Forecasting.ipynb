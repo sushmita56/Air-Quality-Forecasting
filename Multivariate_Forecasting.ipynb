{
  "nbformat": 4,
  "nbformat_minor": 0,
  "metadata": {
    "colab": {
      "provenance": [],
      "collapsed_sections": [
        "A5_nh3EmZ73q"
      ]
    },
    "kernelspec": {
      "name": "python3",
      "display_name": "Python 3"
    },
    "language_info": {
      "name": "python"
    }
  },
  "cells": [
    {
      "cell_type": "code",
      "execution_count": 1,
      "metadata": {
        "colab": {
          "base_uri": "https://localhost:8080/"
        },
        "id": "3jX5T2LswySS",
        "outputId": "0ec9e9ef-8855-4a09-a593-ffc78f015c2d"
      },
      "outputs": [
        {
          "output_type": "stream",
          "name": "stdout",
          "text": [
            "Mounted at /content/drive\n"
          ]
        }
      ],
      "source": [
        "from google.colab import drive\n",
        "drive.mount('/content/drive')"
      ]
    },
    {
      "cell_type": "code",
      "source": [
        "import warnings\n",
        "warnings.filterwarnings('ignore')"
      ],
      "metadata": {
        "id": "9fri3cUT-qRs"
      },
      "execution_count": 7,
      "outputs": []
    },
    {
      "cell_type": "code",
      "source": [
        "import numpy as np\n",
        "import pandas as pd\n",
        "import seaborn as sns\n",
        "import matplotlib.pyplot as plt"
      ],
      "metadata": {
        "id": "kQiCYciDA932"
      },
      "execution_count": 5,
      "outputs": []
    },
    {
      "cell_type": "code",
      "source": [
        "df = pd.read_excel('/content/drive/MyDrive/Colab Notebooks/Datasets/AirQualityUCI.xlsx')\n",
        "df.head()"
      ],
      "metadata": {
        "colab": {
          "base_uri": "https://localhost:8080/",
          "height": 206
        },
        "id": "mK2oYefmA-VC",
        "outputId": "b72b9e09-fba8-44fe-8281-18878f0c009c"
      },
      "execution_count": 18,
      "outputs": [
        {
          "output_type": "execute_result",
          "data": {
            "text/plain": [
              "        Date      Time  CO(GT)  PT08.S1(CO)  NMHC(GT)   C6H6(GT)  \\\n",
              "0 2004-03-10  18:00:00     2.6      1360.00       150  11.881723   \n",
              "1 2004-03-10  19:00:00     2.0      1292.25       112   9.397165   \n",
              "2 2004-03-10  20:00:00     2.2      1402.00        88   8.997817   \n",
              "3 2004-03-10  21:00:00     2.2      1375.50        80   9.228796   \n",
              "4 2004-03-10  22:00:00     1.6      1272.25        51   6.518224   \n",
              "\n",
              "   PT08.S2(NMHC)  NOx(GT)  PT08.S3(NOx)  NO2(GT)  PT08.S4(NO2)  PT08.S5(O3)  \\\n",
              "0        1045.50    166.0       1056.25    113.0       1692.00      1267.50   \n",
              "1         954.75    103.0       1173.75     92.0       1558.75       972.25   \n",
              "2         939.25    131.0       1140.00    114.0       1554.50      1074.00   \n",
              "3         948.25    172.0       1092.00    122.0       1583.75      1203.25   \n",
              "4         835.50    131.0       1205.00    116.0       1490.00      1110.00   \n",
              "\n",
              "       T         RH        AH  \n",
              "0  13.60  48.875001  0.757754  \n",
              "1  13.30  47.700000  0.725487  \n",
              "2  11.90  53.975000  0.750239  \n",
              "3  11.00  60.000000  0.786713  \n",
              "4  11.15  59.575001  0.788794  "
            ],
            "text/html": [
              "\n",
              "  <div id=\"df-8cec6a24-6072-473d-89bd-08446478ca13\">\n",
              "    <div class=\"colab-df-container\">\n",
              "      <div>\n",
              "<style scoped>\n",
              "    .dataframe tbody tr th:only-of-type {\n",
              "        vertical-align: middle;\n",
              "    }\n",
              "\n",
              "    .dataframe tbody tr th {\n",
              "        vertical-align: top;\n",
              "    }\n",
              "\n",
              "    .dataframe thead th {\n",
              "        text-align: right;\n",
              "    }\n",
              "</style>\n",
              "<table border=\"1\" class=\"dataframe\">\n",
              "  <thead>\n",
              "    <tr style=\"text-align: right;\">\n",
              "      <th></th>\n",
              "      <th>Date</th>\n",
              "      <th>Time</th>\n",
              "      <th>CO(GT)</th>\n",
              "      <th>PT08.S1(CO)</th>\n",
              "      <th>NMHC(GT)</th>\n",
              "      <th>C6H6(GT)</th>\n",
              "      <th>PT08.S2(NMHC)</th>\n",
              "      <th>NOx(GT)</th>\n",
              "      <th>PT08.S3(NOx)</th>\n",
              "      <th>NO2(GT)</th>\n",
              "      <th>PT08.S4(NO2)</th>\n",
              "      <th>PT08.S5(O3)</th>\n",
              "      <th>T</th>\n",
              "      <th>RH</th>\n",
              "      <th>AH</th>\n",
              "    </tr>\n",
              "  </thead>\n",
              "  <tbody>\n",
              "    <tr>\n",
              "      <th>0</th>\n",
              "      <td>2004-03-10</td>\n",
              "      <td>18:00:00</td>\n",
              "      <td>2.6</td>\n",
              "      <td>1360.00</td>\n",
              "      <td>150</td>\n",
              "      <td>11.881723</td>\n",
              "      <td>1045.50</td>\n",
              "      <td>166.0</td>\n",
              "      <td>1056.25</td>\n",
              "      <td>113.0</td>\n",
              "      <td>1692.00</td>\n",
              "      <td>1267.50</td>\n",
              "      <td>13.60</td>\n",
              "      <td>48.875001</td>\n",
              "      <td>0.757754</td>\n",
              "    </tr>\n",
              "    <tr>\n",
              "      <th>1</th>\n",
              "      <td>2004-03-10</td>\n",
              "      <td>19:00:00</td>\n",
              "      <td>2.0</td>\n",
              "      <td>1292.25</td>\n",
              "      <td>112</td>\n",
              "      <td>9.397165</td>\n",
              "      <td>954.75</td>\n",
              "      <td>103.0</td>\n",
              "      <td>1173.75</td>\n",
              "      <td>92.0</td>\n",
              "      <td>1558.75</td>\n",
              "      <td>972.25</td>\n",
              "      <td>13.30</td>\n",
              "      <td>47.700000</td>\n",
              "      <td>0.725487</td>\n",
              "    </tr>\n",
              "    <tr>\n",
              "      <th>2</th>\n",
              "      <td>2004-03-10</td>\n",
              "      <td>20:00:00</td>\n",
              "      <td>2.2</td>\n",
              "      <td>1402.00</td>\n",
              "      <td>88</td>\n",
              "      <td>8.997817</td>\n",
              "      <td>939.25</td>\n",
              "      <td>131.0</td>\n",
              "      <td>1140.00</td>\n",
              "      <td>114.0</td>\n",
              "      <td>1554.50</td>\n",
              "      <td>1074.00</td>\n",
              "      <td>11.90</td>\n",
              "      <td>53.975000</td>\n",
              "      <td>0.750239</td>\n",
              "    </tr>\n",
              "    <tr>\n",
              "      <th>3</th>\n",
              "      <td>2004-03-10</td>\n",
              "      <td>21:00:00</td>\n",
              "      <td>2.2</td>\n",
              "      <td>1375.50</td>\n",
              "      <td>80</td>\n",
              "      <td>9.228796</td>\n",
              "      <td>948.25</td>\n",
              "      <td>172.0</td>\n",
              "      <td>1092.00</td>\n",
              "      <td>122.0</td>\n",
              "      <td>1583.75</td>\n",
              "      <td>1203.25</td>\n",
              "      <td>11.00</td>\n",
              "      <td>60.000000</td>\n",
              "      <td>0.786713</td>\n",
              "    </tr>\n",
              "    <tr>\n",
              "      <th>4</th>\n",
              "      <td>2004-03-10</td>\n",
              "      <td>22:00:00</td>\n",
              "      <td>1.6</td>\n",
              "      <td>1272.25</td>\n",
              "      <td>51</td>\n",
              "      <td>6.518224</td>\n",
              "      <td>835.50</td>\n",
              "      <td>131.0</td>\n",
              "      <td>1205.00</td>\n",
              "      <td>116.0</td>\n",
              "      <td>1490.00</td>\n",
              "      <td>1110.00</td>\n",
              "      <td>11.15</td>\n",
              "      <td>59.575001</td>\n",
              "      <td>0.788794</td>\n",
              "    </tr>\n",
              "  </tbody>\n",
              "</table>\n",
              "</div>\n",
              "      <button class=\"colab-df-convert\" onclick=\"convertToInteractive('df-8cec6a24-6072-473d-89bd-08446478ca13')\"\n",
              "              title=\"Convert this dataframe to an interactive table.\"\n",
              "              style=\"display:none;\">\n",
              "        \n",
              "  <svg xmlns=\"http://www.w3.org/2000/svg\" height=\"24px\"viewBox=\"0 0 24 24\"\n",
              "       width=\"24px\">\n",
              "    <path d=\"M0 0h24v24H0V0z\" fill=\"none\"/>\n",
              "    <path d=\"M18.56 5.44l.94 2.06.94-2.06 2.06-.94-2.06-.94-.94-2.06-.94 2.06-2.06.94zm-11 1L8.5 8.5l.94-2.06 2.06-.94-2.06-.94L8.5 2.5l-.94 2.06-2.06.94zm10 10l.94 2.06.94-2.06 2.06-.94-2.06-.94-.94-2.06-.94 2.06-2.06.94z\"/><path d=\"M17.41 7.96l-1.37-1.37c-.4-.4-.92-.59-1.43-.59-.52 0-1.04.2-1.43.59L10.3 9.45l-7.72 7.72c-.78.78-.78 2.05 0 2.83L4 21.41c.39.39.9.59 1.41.59.51 0 1.02-.2 1.41-.59l7.78-7.78 2.81-2.81c.8-.78.8-2.07 0-2.86zM5.41 20L4 18.59l7.72-7.72 1.47 1.35L5.41 20z\"/>\n",
              "  </svg>\n",
              "      </button>\n",
              "      \n",
              "  <style>\n",
              "    .colab-df-container {\n",
              "      display:flex;\n",
              "      flex-wrap:wrap;\n",
              "      gap: 12px;\n",
              "    }\n",
              "\n",
              "    .colab-df-convert {\n",
              "      background-color: #E8F0FE;\n",
              "      border: none;\n",
              "      border-radius: 50%;\n",
              "      cursor: pointer;\n",
              "      display: none;\n",
              "      fill: #1967D2;\n",
              "      height: 32px;\n",
              "      padding: 0 0 0 0;\n",
              "      width: 32px;\n",
              "    }\n",
              "\n",
              "    .colab-df-convert:hover {\n",
              "      background-color: #E2EBFA;\n",
              "      box-shadow: 0px 1px 2px rgba(60, 64, 67, 0.3), 0px 1px 3px 1px rgba(60, 64, 67, 0.15);\n",
              "      fill: #174EA6;\n",
              "    }\n",
              "\n",
              "    [theme=dark] .colab-df-convert {\n",
              "      background-color: #3B4455;\n",
              "      fill: #D2E3FC;\n",
              "    }\n",
              "\n",
              "    [theme=dark] .colab-df-convert:hover {\n",
              "      background-color: #434B5C;\n",
              "      box-shadow: 0px 1px 3px 1px rgba(0, 0, 0, 0.15);\n",
              "      filter: drop-shadow(0px 1px 2px rgba(0, 0, 0, 0.3));\n",
              "      fill: #FFFFFF;\n",
              "    }\n",
              "  </style>\n",
              "\n",
              "      <script>\n",
              "        const buttonEl =\n",
              "          document.querySelector('#df-8cec6a24-6072-473d-89bd-08446478ca13 button.colab-df-convert');\n",
              "        buttonEl.style.display =\n",
              "          google.colab.kernel.accessAllowed ? 'block' : 'none';\n",
              "\n",
              "        async function convertToInteractive(key) {\n",
              "          const element = document.querySelector('#df-8cec6a24-6072-473d-89bd-08446478ca13');\n",
              "          const dataTable =\n",
              "            await google.colab.kernel.invokeFunction('convertToInteractive',\n",
              "                                                     [key], {});\n",
              "          if (!dataTable) return;\n",
              "\n",
              "          const docLinkHtml = 'Like what you see? Visit the ' +\n",
              "            '<a target=\"_blank\" href=https://colab.research.google.com/notebooks/data_table.ipynb>data table notebook</a>'\n",
              "            + ' to learn more about interactive tables.';\n",
              "          element.innerHTML = '';\n",
              "          dataTable['output_type'] = 'display_data';\n",
              "          await google.colab.output.renderOutput(dataTable, element);\n",
              "          const docLink = document.createElement('div');\n",
              "          docLink.innerHTML = docLinkHtml;\n",
              "          element.appendChild(docLink);\n",
              "        }\n",
              "      </script>\n",
              "    </div>\n",
              "  </div>\n",
              "  "
            ]
          },
          "metadata": {},
          "execution_count": 18
        }
      ]
    },
    {
      "cell_type": "code",
      "source": [
        "df['DateTime'] = df['Date'].astype('str') + ' ' + df['Time'].astype('str')"
      ],
      "metadata": {
        "id": "OHzinAtJGn9k"
      },
      "execution_count": 19,
      "outputs": []
    },
    {
      "cell_type": "code",
      "source": [
        "df['DateTime'] = pd.to_datetime(df['DateTime'])"
      ],
      "metadata": {
        "id": "SZ_M4S4qGw2d"
      },
      "execution_count": 20,
      "outputs": []
    },
    {
      "cell_type": "code",
      "source": [
        "df.set_index('DateTime', inplace=True)"
      ],
      "metadata": {
        "id": "A9vLhywsGygI"
      },
      "execution_count": 21,
      "outputs": []
    },
    {
      "cell_type": "markdown",
      "source": [
        "## Check for any missing datetime in the index"
      ],
      "metadata": {
        "id": "434DPrBrV5W4"
      }
    },
    {
      "cell_type": "code",
      "source": [
        "df.index.max() , df.index.min()"
      ],
      "metadata": {
        "colab": {
          "base_uri": "https://localhost:8080/"
        },
        "id": "ZZ9sDzU0G9y-",
        "outputId": "9fb5f268-7b4b-4ead-9b64-bf93efee4512"
      },
      "execution_count": null,
      "outputs": [
        {
          "output_type": "execute_result",
          "data": {
            "text/plain": [
              "(Timestamp('2005-04-04 14:00:00'), Timestamp('2004-03-10 18:00:00'))"
            ]
          },
          "metadata": {},
          "execution_count": 8
        }
      ]
    },
    {
      "cell_type": "code",
      "source": [
        "df.index.max() - df.index.min()"
      ],
      "metadata": {
        "colab": {
          "base_uri": "https://localhost:8080/"
        },
        "id": "U4gqvCXMVtpv",
        "outputId": "0146e41a-fc96-4419-9c56-c9c0d1398d9d"
      },
      "execution_count": null,
      "outputs": [
        {
          "output_type": "execute_result",
          "data": {
            "text/plain": [
              "Timedelta('389 days 20:00:00')"
            ]
          },
          "metadata": {},
          "execution_count": 9
        }
      ]
    },
    {
      "cell_type": "code",
      "source": [
        "print('Total number of observations in the dataframe: ', df.shape[0])\n",
        "print('Total counted datetime: ', (389 * 24 + 20))"
      ],
      "metadata": {
        "colab": {
          "base_uri": "https://localhost:8080/"
        },
        "id": "Vgwh633uXY8Z",
        "outputId": "e76ddb63-17b2-45ea-9b4a-a25900291afe"
      },
      "execution_count": null,
      "outputs": [
        {
          "output_type": "stream",
          "name": "stdout",
          "text": [
            "Total number of observations in the dataframe:  9357\n",
            "Total counted datetime:  9356\n"
          ]
        }
      ]
    },
    {
      "cell_type": "code",
      "source": [
        "# this will print any missing datetime in dataframe df\n",
        "pd.date_range(start = df.index.min(), end = df.index.min(), freq='H').difference(df.index)"
      ],
      "metadata": {
        "colab": {
          "base_uri": "https://localhost:8080/"
        },
        "id": "4abi-CAnIW4n",
        "outputId": "75de3a2e-1e09-4ff0-8994-51196b9aed11"
      },
      "execution_count": null,
      "outputs": [
        {
          "output_type": "execute_result",
          "data": {
            "text/plain": [
              "DatetimeIndex([], dtype='datetime64[ns]', freq=None)"
            ]
          },
          "metadata": {},
          "execution_count": 11
        }
      ]
    },
    {
      "cell_type": "code",
      "source": [
        "print(df.index.inferred_freq)"
      ],
      "metadata": {
        "colab": {
          "base_uri": "https://localhost:8080/"
        },
        "id": "tPTtQEXbXUkc",
        "outputId": "7b3e6059-55ba-4aa4-95c2-7b618b868502"
      },
      "execution_count": null,
      "outputs": [
        {
          "output_type": "stream",
          "name": "stdout",
          "text": [
            "H\n"
          ]
        }
      ]
    },
    {
      "cell_type": "code",
      "source": [
        "m = df.copy()"
      ],
      "metadata": {
        "id": "3hPhuN7wKznz"
      },
      "execution_count": null,
      "outputs": []
    },
    {
      "cell_type": "code",
      "source": [
        "m.drop(['2004-03-10 19:00:00', '2004-03-10 21:00:00', '2005-04-04 13:00:00'], inplace=True)"
      ],
      "metadata": {
        "id": "xfJyQ3lcLZmc"
      },
      "execution_count": null,
      "outputs": []
    },
    {
      "cell_type": "code",
      "source": [
        "m.shape"
      ],
      "metadata": {
        "colab": {
          "base_uri": "https://localhost:8080/"
        },
        "id": "j1qoplXLLpm4",
        "outputId": "4d020919-8e27-4f68-a1da-f73a9d0c60b5"
      },
      "execution_count": null,
      "outputs": [
        {
          "output_type": "execute_result",
          "data": {
            "text/plain": [
              "(9354, 15)"
            ]
          },
          "metadata": {},
          "execution_count": 15
        }
      ]
    },
    {
      "cell_type": "code",
      "source": [
        "# this will print any missing datetime in dataframe m\n",
        "pd.date_range(start =m.index.min(), end =m.index.max(), freq='H').difference(m.index)"
      ],
      "metadata": {
        "colab": {
          "base_uri": "https://localhost:8080/"
        },
        "id": "S_RWbuLkTqBW",
        "outputId": "749da748-b29d-449b-e355-408b5c76538f"
      },
      "execution_count": null,
      "outputs": [
        {
          "output_type": "execute_result",
          "data": {
            "text/plain": [
              "DatetimeIndex(['2004-03-10 19:00:00', '2004-03-10 21:00:00',\n",
              "               '2005-04-04 13:00:00'],\n",
              "              dtype='datetime64[ns]', freq=None)"
            ]
          },
          "metadata": {},
          "execution_count": 16
        }
      ]
    },
    {
      "cell_type": "code",
      "source": [
        "m.index.inferred_freq"
      ],
      "metadata": {
        "id": "SpZPL440Tih9"
      },
      "execution_count": null,
      "outputs": []
    },
    {
      "cell_type": "markdown",
      "source": [
        "<b>So the dataset has no missing time index.</b>"
      ],
      "metadata": {
        "id": "gQCLo8c9X-w3"
      }
    },
    {
      "cell_type": "markdown",
      "source": [
        "# Feature Engineering"
      ],
      "metadata": {
        "id": "Gv8csNHakzdx"
      }
    },
    {
      "cell_type": "code",
      "source": [
        "df.replace(-200, np.nan, inplace=True)"
      ],
      "metadata": {
        "id": "tVVmcnUVllKu"
      },
      "execution_count": 22,
      "outputs": []
    },
    {
      "cell_type": "code",
      "source": [
        "# more than 90% of values are missing from NMHC(GT) column\n",
        "df.drop('NMHC(GT)', axis=1, inplace=True)"
      ],
      "metadata": {
        "id": "BP5z7qA01Kpt"
      },
      "execution_count": 23,
      "outputs": []
    },
    {
      "cell_type": "code",
      "source": [
        "df.columns"
      ],
      "metadata": {
        "colab": {
          "base_uri": "https://localhost:8080/"
        },
        "id": "ZTmYK8D3lUkt",
        "outputId": "ab455f00-0a29-4ded-ce6a-0d09c6a434c8"
      },
      "execution_count": 24,
      "outputs": [
        {
          "output_type": "execute_result",
          "data": {
            "text/plain": [
              "Index(['Date', 'Time', 'CO(GT)', 'PT08.S1(CO)', 'C6H6(GT)', 'PT08.S2(NMHC)',\n",
              "       'NOx(GT)', 'PT08.S3(NOx)', 'NO2(GT)', 'PT08.S4(NO2)', 'PT08.S5(O3)',\n",
              "       'T', 'RH', 'AH'],\n",
              "      dtype='object')"
            ]
          },
          "metadata": {},
          "execution_count": 24
        }
      ]
    },
    {
      "cell_type": "code",
      "source": [
        "for col in df.columns[2:]:\n",
        "  Q1 = df[col].quantile(0.25)\n",
        "  Q3 = df[col].quantile(0.75)\n",
        "  IQR = Q3 - Q1\n",
        "  upper_limit = Q3 + 1.5 * IQR\n",
        "  lower_limit = Q1 - 1.5 * IQR\n",
        "  df[col] = np.where(df[col]>upper_limit, upper_limit, np.where(df[col]<lower_limit, lower_limit, df[col]))\n"
      ],
      "metadata": {
        "id": "D6Lq96vbX8j8"
      },
      "execution_count": 25,
      "outputs": []
    },
    {
      "cell_type": "code",
      "source": [
        "# replacing missing values using linear interpolation\n",
        "for col in df.columns[2:]:\n",
        "  df[col] = df[col].interpolate()"
      ],
      "metadata": {
        "id": "_Uf7q9tmpAuo"
      },
      "execution_count": null,
      "outputs": []
    },
    {
      "cell_type": "code",
      "source": [
        "df.isna().sum()"
      ],
      "metadata": {
        "colab": {
          "base_uri": "https://localhost:8080/"
        },
        "id": "7XpF0iUcld0S",
        "outputId": "e8c2e794-73e5-4820-964a-4c3ba8534853"
      },
      "execution_count": null,
      "outputs": [
        {
          "output_type": "execute_result",
          "data": {
            "text/plain": [
              "Date             0\n",
              "Time             0\n",
              "CO(GT)           0\n",
              "PT08.S1(CO)      0\n",
              "C6H6(GT)         0\n",
              "PT08.S2(NMHC)    0\n",
              "NOx(GT)          0\n",
              "PT08.S3(NOx)     0\n",
              "NO2(GT)          0\n",
              "PT08.S4(NO2)     0\n",
              "PT08.S5(O3)      0\n",
              "T                0\n",
              "RH               0\n",
              "AH               0\n",
              "dtype: int64"
            ]
          },
          "metadata": {},
          "execution_count": 23
        }
      ]
    },
    {
      "cell_type": "code",
      "source": [
        "plt.figure(figsize=(10,7))\n",
        "plt.scatter(x=df.index, y=df['T'])"
      ],
      "metadata": {
        "colab": {
          "base_uri": "https://localhost:8080/",
          "height": 446
        },
        "id": "LiQZZ4_oltyc",
        "outputId": "b4081c07-91fa-4824-9681-d31db90bffbc"
      },
      "execution_count": null,
      "outputs": [
        {
          "output_type": "execute_result",
          "data": {
            "text/plain": [
              "<matplotlib.collections.PathCollection at 0x7f6fda115e50>"
            ]
          },
          "metadata": {},
          "execution_count": 24
        },
        {
          "output_type": "display_data",
          "data": {
            "text/plain": [
              "<Figure size 720x504 with 1 Axes>"
            ],
            "image/png": "[encoded data removed]"
          },
          "metadata": {
            "needs_background": "light"
          }
        }
      ]
    },
    {
      "cell_type": "code",
      "source": [
        "plt.figure(figsize=(10,7))\n",
        "plt.scatter(x=df['T'].loc['2005-02-01 12:00:00':'2005-02-15 12:00:00'].index, y=df['T'].loc['2005-02-01 12:00:00':'2005-02-15 12:00:00'])"
      ],
      "metadata": {
        "colab": {
          "base_uri": "https://localhost:8080/",
          "height": 446
        },
        "id": "ojKh6rYql2m_",
        "outputId": "6f08496e-a71b-41a9-8cec-f44517a4dc6d"
      },
      "execution_count": null,
      "outputs": [
        {
          "output_type": "execute_result",
          "data": {
            "text/plain": [
              "<matplotlib.collections.PathCollection at 0x7f6fda459610>"
            ]
          },
          "metadata": {},
          "execution_count": 25
        },
        {
          "output_type": "display_data",
          "data": {
            "text/plain": [
              "<Figure size 720x504 with 1 Axes>"
            ],
            "image/png": "[encoded data removed]"
          },
          "metadata": {
            "needs_background": "light"
          }
        }
      ]
    },
    {
      "cell_type": "code",
      "source": [
        "plt.figure(figsize=(10,7))\n",
        "plt.scatter(x=df['T'].loc['2005-02-08 00:00:00':'2005-02-12 00:00:00'].index, y=df['T'].loc['2005-02-08 00:00:00':'2005-02-12 00:00:00'])"
      ],
      "metadata": {
        "colab": {
          "base_uri": "https://localhost:8080/",
          "height": 446
        },
        "id": "V_qXspBunhTO",
        "outputId": "d2c970f2-bee1-4064-8336-34363c3eb118"
      },
      "execution_count": null,
      "outputs": [
        {
          "output_type": "execute_result",
          "data": {
            "text/plain": [
              "<matplotlib.collections.PathCollection at 0x7f6fda1ee340>"
            ]
          },
          "metadata": {},
          "execution_count": 26
        },
        {
          "output_type": "display_data",
          "data": {
            "text/plain": [
              "<Figure size 720x504 with 1 Axes>"
            ],
            "image/png": "[encoded data removed]"
          },
          "metadata": {
            "needs_background": "light"
          }
        }
      ]
    },
    {
      "cell_type": "markdown",
      "source": [
        "<b>The straight line formed by a sequence of points on the above plot is because of values generated in place of NAN values by linear interpolation technique, where NAN values are substituted in place of -200 values.</b>\n",
        "\n",
        "<b>Let's try other techniques to impute missing values.</b>"
      ],
      "metadata": {
        "id": "lXWvjpzjV0b8"
      }
    },
    {
      "cell_type": "code",
      "source": [
        "data = pd.read_excel('/content/drive/MyDrive/Colab Notebooks/Datasets/AirQualityUCI.xlsx')\n",
        "data['DateTime'] = data['Date'].astype('str') + ' ' + data['Time'].astype('str')\n",
        "data['DateTime'] = pd.to_datetime(data['DateTime'])\n",
        "data.set_index('DateTime', inplace=True)"
      ],
      "metadata": {
        "id": "Um57Ppi-pFP_"
      },
      "execution_count": 8,
      "outputs": []
    },
    {
      "cell_type": "code",
      "source": [
        "data['T'].loc['2005-02-08 12:00:00':'2005-02-12 00:00:00'].head(10)"
      ],
      "metadata": {
        "colab": {
          "base_uri": "https://localhost:8080/"
        },
        "id": "XlwJd-mZOjN8",
        "outputId": "76f004da-da64-4c25-d681-32b930a68ab6"
      },
      "execution_count": 9,
      "outputs": [
        {
          "output_type": "execute_result",
          "data": {
            "text/plain": [
              "DateTime\n",
              "2005-02-08 12:00:00     11.400\n",
              "2005-02-08 13:00:00     12.675\n",
              "2005-02-08 14:00:00     13.250\n",
              "2005-02-08 15:00:00     13.900\n",
              "2005-02-08 16:00:00     13.600\n",
              "2005-02-08 17:00:00   -200.000\n",
              "2005-02-08 18:00:00   -200.000\n",
              "2005-02-08 19:00:00   -200.000\n",
              "2005-02-08 20:00:00   -200.000\n",
              "2005-02-08 21:00:00   -200.000\n",
              "Name: T, dtype: float64"
            ]
          },
          "metadata": {},
          "execution_count": 9
        }
      ]
    },
    {
      "cell_type": "code",
      "source": [
        "data.replace(-200, np.nan, inplace=True)"
      ],
      "metadata": {
        "id": "yz7tqcg_RlK3"
      },
      "execution_count": 10,
      "outputs": []
    },
    {
      "cell_type": "code",
      "source": [
        "data.drop('NMHC(GT)', inplace=True, axis=1)"
      ],
      "metadata": {
        "id": "AHE3ckMTzM8Z"
      },
      "execution_count": 11,
      "outputs": []
    },
    {
      "cell_type": "code",
      "source": [
        "# treating outliers by flooring and capping\n",
        "for col in data.columns[2:]:\n",
        "  Q1 = data[col].quantile(0.25)\n",
        "  Q3 = data[col].quantile(0.75)\n",
        "  IQR = Q3 - Q1\n",
        "  upper_limit = Q3 + 1.5 * IQR\n",
        "  lower_limit = Q1 - 1.5 * IQR\n",
        "  data[col] = np.where(data[col]>upper_limit, upper_limit, np.where(data[col]<lower_limit, lower_limit, data[col]))\n"
      ],
      "metadata": {
        "id": "hkAKU3JHRWll"
      },
      "execution_count": 12,
      "outputs": []
    },
    {
      "cell_type": "code",
      "source": [
        "d1 = data.copy()\n",
        "d2 = data.copy()\n",
        "d3 = data.copy()\n",
        "d4 = data.copy()\n",
        "d5 = data.copy()\n",
        "d6 = data.copy()\n",
        "d7 = data.copy()\n",
        "d8 = data.copy()\n",
        "d9 = data.copy()\n",
        "d10 = data.copy()"
      ],
      "metadata": {
        "id": "SsooI9ZtSj4d"
      },
      "execution_count": 13,
      "outputs": []
    },
    {
      "cell_type": "code",
      "source": [
        "# replacing missing values using spline interpolation\n",
        "for col in d1.columns[2:]:\n",
        "  d1[col] = d1[col].interpolate(method='spline', order=3)"
      ],
      "metadata": {
        "id": "lQRMrdKHRd6L"
      },
      "execution_count": 18,
      "outputs": []
    },
    {
      "cell_type": "code",
      "source": [
        "plt.figure(figsize=(10,7))\n",
        "plt.title('Spline Interpolation', fontweight='bold')\n",
        "plt.scatter(x=d1['T'].loc['2005-02-01 12:00:00':'2005-02-15 12:00:00'].index, y=d1['T'].loc['2005-02-01 12:00:00':'2005-02-15 12:00:00'])"
      ],
      "metadata": {
        "colab": {
          "base_uri": "https://localhost:8080/",
          "height": 462
        },
        "id": "CDiH-DXvRQuL",
        "outputId": "51db7ed7-b19c-45ec-816e-3353a4d618bf"
      },
      "execution_count": 19,
      "outputs": [
        {
          "output_type": "execute_result",
          "data": {
            "text/plain": [
              "<matplotlib.collections.PathCollection at 0x7f8c04243970>"
            ]
          },
          "metadata": {},
          "execution_count": 19
        },
        {
          "output_type": "display_data",
          "data": {
            "text/plain": [
              "<Figure size 720x504 with 1 Axes>"
            ],
            "image/png": "[encoded data removed]"
          },
          "metadata": {
            "needs_background": "light"
          }
        }
      ]
    },
    {
      "cell_type": "code",
      "source": [
        "# replacing missing values using quadratic interpolation\n",
        "for col in d2.columns[2:]:\n",
        "  d2[col] = d2[col].interpolate(method='quadratic')"
      ],
      "metadata": {
        "id": "PFhYTLBaRzaj"
      },
      "execution_count": null,
      "outputs": []
    },
    {
      "cell_type": "code",
      "source": [
        "plt.figure(figsize=(10, 7))\n",
        "plt.title('Quadratic Interpolation', fontweight='bold')\n",
        "plt.scatter(x=d2['T'].loc['2005-02-01 12:00:00':'2005-02-15 12:00:00'].index, y=d2['T'].loc['2005-02-01 12:00:00':'2005-02-15 12:00:00'])"
      ],
      "metadata": {
        "colab": {
          "base_uri": "https://localhost:8080/",
          "height": 462
        },
        "id": "yf5ipCxoURuM",
        "outputId": "4344a678-c723-4455-ad48-777739889712"
      },
      "execution_count": null,
      "outputs": [
        {
          "output_type": "execute_result",
          "data": {
            "text/plain": [
              "<matplotlib.collections.PathCollection at 0x7f6fda1dcd00>"
            ]
          },
          "metadata": {},
          "execution_count": 36
        },
        {
          "output_type": "display_data",
          "data": {
            "text/plain": [
              "<Figure size 720x504 with 1 Axes>"
            ],
            "image/png": "[encoded data removed]"
          },
          "metadata": {
            "needs_background": "light"
          }
        }
      ]
    },
    {
      "cell_type": "code",
      "source": [
        "# replacing missing values using barycentric interpolation\n",
        "for col in d3.columns[2:]:\n",
        "  d3[col] = d3[col].interpolate(method='barycentric')"
      ],
      "metadata": {
        "id": "-AE8DXGuUiHd"
      },
      "execution_count": null,
      "outputs": []
    },
    {
      "cell_type": "code",
      "source": [
        "plt.figure(figsize=(10, 7))\n",
        "plt.title('Barycentric Interpolation', fontweight='bold')\n",
        "plt.scatter(x=d3['T'].loc['2005-02-01 12:00:00':'2005-02-15 12:00:00'].index, y=d3['T'].loc['2005-02-01 12:00:00':'2005-02-15 12:00:00'])"
      ],
      "metadata": {
        "colab": {
          "base_uri": "https://localhost:8080/",
          "height": 462
        },
        "id": "f9NLO8KKVDko",
        "outputId": "ba2e1225-429e-45e2-eb6b-99dade12a937"
      },
      "execution_count": null,
      "outputs": [
        {
          "output_type": "execute_result",
          "data": {
            "text/plain": [
              "<matplotlib.collections.PathCollection at 0x7f6fda5f8ca0>"
            ]
          },
          "metadata": {},
          "execution_count": 38
        },
        {
          "output_type": "display_data",
          "data": {
            "text/plain": [
              "<Figure size 720x504 with 1 Axes>"
            ],
            "image/png": "[encoded data removed]"
          },
          "metadata": {
            "needs_background": "light"
          }
        }
      ]
    },
    {
      "cell_type": "code",
      "source": [
        "# replacing missing values using cubic interpolation\n",
        "for col in d4.columns[2:]:\n",
        "  d4[col] = d4[col].interpolate(method='cubic')"
      ],
      "metadata": {
        "id": "UhV-tTpcU-0f"
      },
      "execution_count": null,
      "outputs": []
    },
    {
      "cell_type": "code",
      "source": [
        "plt.figure(figsize=(10, 7))\n",
        "plt.title('Cubic Interpolation', fontweight='bold')\n",
        "plt.scatter(x=d4['T'].loc['2005-02-01 12:00:00':'2005-02-15 12:00:00'].index, y=d4['T'].loc['2005-02-01 12:00:00':'2005-02-15 12:00:00'])"
      ],
      "metadata": {
        "colab": {
          "base_uri": "https://localhost:8080/",
          "height": 462
        },
        "id": "5Rau0Sv4WZWs",
        "outputId": "73e245f4-ff3e-4123-ad7f-518eb2f09cc5"
      },
      "execution_count": null,
      "outputs": [
        {
          "output_type": "execute_result",
          "data": {
            "text/plain": [
              "<matplotlib.collections.PathCollection at 0x7f6fda4a0dc0>"
            ]
          },
          "metadata": {},
          "execution_count": 40
        },
        {
          "output_type": "display_data",
          "data": {
            "text/plain": [
              "<Figure size 720x504 with 1 Axes>"
            ],
            "image/png": "[encoded data removed]"
          },
          "metadata": {
            "needs_background": "light"
          }
        }
      ]
    },
    {
      "cell_type": "code",
      "source": [
        "# replacing missing values using nearest interpolation\n",
        "for col in d5.columns[2:]:\n",
        "  d5[col] = d5[col].interpolate(method='nearest')"
      ],
      "metadata": {
        "id": "K1iRmCmNWfyZ"
      },
      "execution_count": null,
      "outputs": []
    },
    {
      "cell_type": "code",
      "source": [
        "plt.figure(figsize=(10, 7))\n",
        "plt.title('Nearest Interpolation', fontweight='bold')\n",
        "plt.scatter(x=d5['T'].loc['2005-02-01 12:00:00':'2005-02-15 12:00:00'].index, y=d5['T'].loc['2005-02-01 12:00:00':'2005-02-15 12:00:00'])"
      ],
      "metadata": {
        "colab": {
          "base_uri": "https://localhost:8080/",
          "height": 462
        },
        "id": "YOv62i9JWrPv",
        "outputId": "0256f5a0-06ab-40a1-c446-04c08da07949"
      },
      "execution_count": null,
      "outputs": [
        {
          "output_type": "execute_result",
          "data": {
            "text/plain": [
              "<matplotlib.collections.PathCollection at 0x7f6fd7551d60>"
            ]
          },
          "metadata": {},
          "execution_count": 42
        },
        {
          "output_type": "display_data",
          "data": {
            "text/plain": [
              "<Figure size 720x504 with 1 Axes>"
            ],
            "image/png": "[encoded data removed]"
          },
          "metadata": {
            "needs_background": "light"
          }
        }
      ]
    },
    {
      "cell_type": "code",
      "source": [
        "# akima interpolation\n",
        "for col in d6.columns[2:]:\n",
        "  d6[col] = d6[col].interpolate(method='akima')"
      ],
      "metadata": {
        "id": "9aqmTCElr-Sb"
      },
      "execution_count": null,
      "outputs": []
    },
    {
      "cell_type": "code",
      "source": [
        "plt.figure(figsize=(10, 7))\n",
        "plt.title('Akima Interpolation', fontweight='bold')\n",
        "plt.scatter(x=d6['T'].loc['2005-02-01 12:00:00':'2005-02-15 12:00:00'].index, y=d6['T'].loc['2005-02-01 12:00:00':'2005-02-15 12:00:00'])"
      ],
      "metadata": {
        "colab": {
          "base_uri": "https://localhost:8080/",
          "height": 462
        },
        "id": "vrMIcj0bsCBp",
        "outputId": "af6ff88f-fd73-4985-ca66-72bc75e6f7ce"
      },
      "execution_count": null,
      "outputs": [
        {
          "output_type": "execute_result",
          "data": {
            "text/plain": [
              "<matplotlib.collections.PathCollection at 0x7f6fda660f40>"
            ]
          },
          "metadata": {},
          "execution_count": 44
        },
        {
          "output_type": "display_data",
          "data": {
            "text/plain": [
              "<Figure size 720x504 with 1 Axes>"
            ],
            "image/png": "[encoded data removed]"
          },
          "metadata": {
            "needs_background": "light"
          }
        }
      ]
    },
    {
      "cell_type": "code",
      "source": [
        "# slinear interpolation\n",
        "for col in d7.columns[2:]:\n",
        "  d7[col] = d7[col].interpolate(method='slinear')"
      ],
      "metadata": {
        "id": "aHZoeVQosHiZ"
      },
      "execution_count": null,
      "outputs": []
    },
    {
      "cell_type": "code",
      "source": [
        "plt.figure(figsize=(10, 7))\n",
        "plt.title('slinear interpolation', fontweight='bold')\n",
        "plt.scatter(x=d7['T'].loc['2005-02-01 12:00:00':'2005-02-15 12:00:00'].index, y=d7['T'].loc['2005-02-01 12:00:00':'2005-02-15 12:00:00'])"
      ],
      "metadata": {
        "colab": {
          "base_uri": "https://localhost:8080/",
          "height": 462
        },
        "id": "INApazEdsQUv",
        "outputId": "6c043b0d-4c2c-465e-da69-f89b0bc9c4b2"
      },
      "execution_count": null,
      "outputs": [
        {
          "output_type": "execute_result",
          "data": {
            "text/plain": [
              "<matplotlib.collections.PathCollection at 0x7f6fda3f4c10>"
            ]
          },
          "metadata": {},
          "execution_count": 46
        },
        {
          "output_type": "display_data",
          "data": {
            "text/plain": [
              "<Figure size 720x504 with 1 Axes>"
            ],
            "image/png": "[encoded data removed]"
          },
          "metadata": {
            "needs_background": "light"
          }
        }
      ]
    },
    {
      "cell_type": "code",
      "source": [
        "# replace missing values using rolling mean\n",
        "d8['T_rollingmean5'] = d8['T'].rolling(min_periods=1, center=True, window=82).mean()\n",
        "d8['T_sma'] = d8['T_rollingmean5']\n",
        "d8['T_sma'].update(d8['T']) # inplace operation"
      ],
      "metadata": {
        "id": "Yu_celcv9OxK"
      },
      "execution_count": null,
      "outputs": []
    },
    {
      "cell_type": "code",
      "source": [
        "d8.head(2)"
      ],
      "metadata": {
        "colab": {
          "base_uri": "https://localhost:8080/",
          "height": 187
        },
        "id": "EmLaUtfg-oKP",
        "outputId": "aa82a0c3-0daa-4f3c-e232-83d371adb8ed"
      },
      "execution_count": null,
      "outputs": [
        {
          "output_type": "execute_result",
          "data": {
            "text/plain": [
              "                          Date      Time  CO(GT)  PT08.S1(CO)   C6H6(GT)  \\\n",
              "DateTime                                                                   \n",
              "2004-03-10 18:00:00 2004-03-10  18:00:00     2.6      1360.00  11.881723   \n",
              "2004-03-10 19:00:00 2004-03-10  19:00:00     2.0      1292.25   9.397165   \n",
              "\n",
              "                     PT08.S2(NMHC)  NOx(GT)  PT08.S3(NOx)  NO2(GT)  \\\n",
              "DateTime                                                             \n",
              "2004-03-10 18:00:00        1045.50    166.0       1056.25    113.0   \n",
              "2004-03-10 19:00:00         954.75    103.0       1173.75     92.0   \n",
              "\n",
              "                     PT08.S4(NO2)  PT08.S5(O3)     T         RH        AH  \\\n",
              "DateTime                                                                    \n",
              "2004-03-10 18:00:00       1692.00      1267.50  13.6  48.875001  0.757754   \n",
              "2004-03-10 19:00:00       1558.75       972.25  13.3  47.700000  0.725487   \n",
              "\n",
              "                     T_rollingmean5  T_sma  \n",
              "DateTime                                    \n",
              "2004-03-10 18:00:00        9.600610   13.6  \n",
              "2004-03-10 19:00:00        9.713095   13.3  "
            ],
            "text/html": [
              "\n",
              "  <div id=\"df-3e3fea81-6021-473a-82a5-f8929ac2fbc2\">\n",
              "    <div class=\"colab-df-container\">\n",
              "      <div>\n",
              "<style scoped>\n",
              "    .dataframe tbody tr th:only-of-type {\n",
              "        vertical-align: middle;\n",
              "    }\n",
              "\n",
              "    .dataframe tbody tr th {\n",
              "        vertical-align: top;\n",
              "    }\n",
              "\n",
              "    .dataframe thead th {\n",
              "        text-align: right;\n",
              "    }\n",
              "</style>\n",
              "<table border=\"1\" class=\"dataframe\">\n",
              "  <thead>\n",
              "    <tr style=\"text-align: right;\">\n",
              "      <th></th>\n",
              "      <th>Date</th>\n",
              "      <th>Time</th>\n",
              "      <th>CO(GT)</th>\n",
              "      <th>PT08.S1(CO)</th>\n",
              "      <th>C6H6(GT)</th>\n",
              "      <th>PT08.S2(NMHC)</th>\n",
              "      <th>NOx(GT)</th>\n",
              "      <th>PT08.S3(NOx)</th>\n",
              "      <th>NO2(GT)</th>\n",
              "      <th>PT08.S4(NO2)</th>\n",
              "      <th>PT08.S5(O3)</th>\n",
              "      <th>T</th>\n",
              "      <th>RH</th>\n",
              "      <th>AH</th>\n",
              "      <th>T_rollingmean5</th>\n",
              "      <th>T_sma</th>\n",
              "    </tr>\n",
              "    <tr>\n",
              "      <th>DateTime</th>\n",
              "      <th></th>\n",
              "      <th></th>\n",
              "      <th></th>\n",
              "      <th></th>\n",
              "      <th></th>\n",
              "      <th></th>\n",
              "      <th></th>\n",
              "      <th></th>\n",
              "      <th></th>\n",
              "      <th></th>\n",
              "      <th></th>\n",
              "      <th></th>\n",
              "      <th></th>\n",
              "      <th></th>\n",
              "      <th></th>\n",
              "      <th></th>\n",
              "    </tr>\n",
              "  </thead>\n",
              "  <tbody>\n",
              "    <tr>\n",
              "      <th>2004-03-10 18:00:00</th>\n",
              "      <td>2004-03-10</td>\n",
              "      <td>18:00:00</td>\n",
              "      <td>2.6</td>\n",
              "      <td>1360.00</td>\n",
              "      <td>11.881723</td>\n",
              "      <td>1045.50</td>\n",
              "      <td>166.0</td>\n",
              "      <td>1056.25</td>\n",
              "      <td>113.0</td>\n",
              "      <td>1692.00</td>\n",
              "      <td>1267.50</td>\n",
              "      <td>13.6</td>\n",
              "      <td>48.875001</td>\n",
              "      <td>0.757754</td>\n",
              "      <td>9.600610</td>\n",
              "      <td>13.6</td>\n",
              "    </tr>\n",
              "    <tr>\n",
              "      <th>2004-03-10 19:00:00</th>\n",
              "      <td>2004-03-10</td>\n",
              "      <td>19:00:00</td>\n",
              "      <td>2.0</td>\n",
              "      <td>1292.25</td>\n",
              "      <td>9.397165</td>\n",
              "      <td>954.75</td>\n",
              "      <td>103.0</td>\n",
              "      <td>1173.75</td>\n",
              "      <td>92.0</td>\n",
              "      <td>1558.75</td>\n",
              "      <td>972.25</td>\n",
              "      <td>13.3</td>\n",
              "      <td>47.700000</td>\n",
              "      <td>0.725487</td>\n",
              "      <td>9.713095</td>\n",
              "      <td>13.3</td>\n",
              "    </tr>\n",
              "  </tbody>\n",
              "</table>\n",
              "</div>\n",
              "      <button class=\"colab-df-convert\" onclick=\"convertToInteractive('df-3e3fea81-6021-473a-82a5-f8929ac2fbc2')\"\n",
              "              title=\"Convert this dataframe to an interactive table.\"\n",
              "              style=\"display:none;\">\n",
              "        \n",
              "  <svg xmlns=\"http://www.w3.org/2000/svg\" height=\"24px\"viewBox=\"0 0 24 24\"\n",
              "       width=\"24px\">\n",
              "    <path d=\"M0 0h24v24H0V0z\" fill=\"none\"/>\n",
              "    <path d=\"M18.56 5.44l.94 2.06.94-2.06 2.06-.94-2.06-.94-.94-2.06-.94 2.06-2.06.94zm-11 1L8.5 8.5l.94-2.06 2.06-.94-2.06-.94L8.5 2.5l-.94 2.06-2.06.94zm10 10l.94 2.06.94-2.06 2.06-.94-2.06-.94-.94-2.06-.94 2.06-2.06.94z\"/><path d=\"M17.41 7.96l-1.37-1.37c-.4-.4-.92-.59-1.43-.59-.52 0-1.04.2-1.43.59L10.3 9.45l-7.72 7.72c-.78.78-.78 2.05 0 2.83L4 21.41c.39.39.9.59 1.41.59.51 0 1.02-.2 1.41-.59l7.78-7.78 2.81-2.81c.8-.78.8-2.07 0-2.86zM5.41 20L4 18.59l7.72-7.72 1.47 1.35L5.41 20z\"/>\n",
              "  </svg>\n",
              "      </button>\n",
              "      \n",
              "  <style>\n",
              "    .colab-df-container {\n",
              "      display:flex;\n",
              "      flex-wrap:wrap;\n",
              "      gap: 12px;\n",
              "    }\n",
              "\n",
              "    .colab-df-convert {\n",
              "      background-color: #E8F0FE;\n",
              "      border: none;\n",
              "      border-radius: 50%;\n",
              "      cursor: pointer;\n",
              "      display: none;\n",
              "      fill: #1967D2;\n",
              "      height: 32px;\n",
              "      padding: 0 0 0 0;\n",
              "      width: 32px;\n",
              "    }\n",
              "\n",
              "    .colab-df-convert:hover {\n",
              "      background-color: #E2EBFA;\n",
              "      box-shadow: 0px 1px 2px rgba(60, 64, 67, 0.3), 0px 1px 3px 1px rgba(60, 64, 67, 0.15);\n",
              "      fill: #174EA6;\n",
              "    }\n",
              "\n",
              "    [theme=dark] .colab-df-convert {\n",
              "      background-color: #3B4455;\n",
              "      fill: #D2E3FC;\n",
              "    }\n",
              "\n",
              "    [theme=dark] .colab-df-convert:hover {\n",
              "      background-color: #434B5C;\n",
              "      box-shadow: 0px 1px 3px 1px rgba(0, 0, 0, 0.15);\n",
              "      filter: drop-shadow(0px 1px 2px rgba(0, 0, 0, 0.3));\n",
              "      fill: #FFFFFF;\n",
              "    }\n",
              "  </style>\n",
              "\n",
              "      <script>\n",
              "        const buttonEl =\n",
              "          document.querySelector('#df-3e3fea81-6021-473a-82a5-f8929ac2fbc2 button.colab-df-convert');\n",
              "        buttonEl.style.display =\n",
              "          google.colab.kernel.accessAllowed ? 'block' : 'none';\n",
              "\n",
              "        async function convertToInteractive(key) {\n",
              "          const element = document.querySelector('#df-3e3fea81-6021-473a-82a5-f8929ac2fbc2');\n",
              "          const dataTable =\n",
              "            await google.colab.kernel.invokeFunction('convertToInteractive',\n",
              "                                                     [key], {});\n",
              "          if (!dataTable) return;\n",
              "\n",
              "          const docLinkHtml = 'Like what you see? Visit the ' +\n",
              "            '<a target=\"_blank\" href=https://colab.research.google.com/notebooks/data_table.ipynb>data table notebook</a>'\n",
              "            + ' to learn more about interactive tables.';\n",
              "          element.innerHTML = '';\n",
              "          dataTable['output_type'] = 'display_data';\n",
              "          await google.colab.output.renderOutput(dataTable, element);\n",
              "          const docLink = document.createElement('div');\n",
              "          docLink.innerHTML = docLinkHtml;\n",
              "          element.appendChild(docLink);\n",
              "        }\n",
              "      </script>\n",
              "    </div>\n",
              "  </div>\n",
              "  "
            ]
          },
          "metadata": {},
          "execution_count": 48
        }
      ]
    },
    {
      "cell_type": "code",
      "source": [
        "plt.figure(figsize=(10, 7))\n",
        "plt.title('Replacing missing values using SMA', fontweight='bold')\n",
        "plt.scatter(x=d8['T'].loc['2005-02-01 12:00:00':'2005-02-15 12:00:00'].index, y=d8['T_sma'].loc['2005-02-01 12:00:00':'2005-02-15 12:00:00']);"
      ],
      "metadata": {
        "colab": {
          "base_uri": "https://localhost:8080/",
          "height": 444
        },
        "id": "SW4b42l_xS49",
        "outputId": "c1cec363-dc92-4652-f2e3-448a42516f47"
      },
      "execution_count": null,
      "outputs": [
        {
          "output_type": "display_data",
          "data": {
            "text/plain": [
              "<Figure size 720x504 with 1 Axes>"
            ],
            "image/png": "[encoded data removed]"
          },
          "metadata": {
            "needs_background": "light"
          }
        }
      ]
    },
    {
      "cell_type": "code",
      "source": [
        "# using exponentially weighted moving average\n",
        "d9['T'] = d9['T'].ewm(halflife=5).mean()"
      ],
      "metadata": {
        "id": "j-QIx8QOXjI5"
      },
      "execution_count": null,
      "outputs": []
    },
    {
      "cell_type": "code",
      "source": [
        "plt.figure(figsize=(10, 7))\n",
        "plt.title('Replacing missing values using EWMA', fontweight='bold')\n",
        "plt.scatter(x=d9['T'].loc['2005-02-01 12:00:00':'2005-02-15 12:00:00'].index, y=d9['T'].loc['2005-02-01 12:00:00':'2005-02-15 12:00:00'])"
      ],
      "metadata": {
        "colab": {
          "base_uri": "https://localhost:8080/",
          "height": 462
        },
        "id": "Ja5ZY1NhYf-f",
        "outputId": "047aacb7-53b4-4271-fe8e-984397f255cc"
      },
      "execution_count": null,
      "outputs": [
        {
          "output_type": "execute_result",
          "data": {
            "text/plain": [
              "<matplotlib.collections.PathCollection at 0x7f6fd7675a90>"
            ]
          },
          "metadata": {},
          "execution_count": 51
        },
        {
          "output_type": "display_data",
          "data": {
            "text/plain": [
              "<Figure size 720x504 with 1 Axes>"
            ],
            "image/png": "[encoded data removed]"
          },
          "metadata": {
            "needs_background": "light"
          }
        }
      ]
    },
    {
      "cell_type": "code",
      "source": [
        "# Filling missing values by the hourly median of each month\n",
        "d10['Month'] = d10.Date.dt.month\n",
        "d10['T_median'] = d10.groupby(['Month', 'Time'])['T'].transform(lambda x:x.fillna(x.median()))"
      ],
      "metadata": {
        "id": "LkqZkIbWm-Qr"
      },
      "execution_count": 14,
      "outputs": []
    },
    {
      "cell_type": "code",
      "source": [
        "d10[['T', 'T_median']].loc['2005-02-08 12:00:00':'2005-02-12 12:00:00'].head(10)"
      ],
      "metadata": {
        "colab": {
          "base_uri": "https://localhost:8080/",
          "height": 394
        },
        "id": "XFsG1Pzvuy6_",
        "outputId": "1e30e043-d28a-4ab9-f998-cf338585e68c"
      },
      "execution_count": 15,
      "outputs": [
        {
          "output_type": "execute_result",
          "data": {
            "text/plain": [
              "                          T  T_median\n",
              "DateTime                             \n",
              "2005-02-08 12:00:00  11.400   11.4000\n",
              "2005-02-08 13:00:00  12.675   12.6750\n",
              "2005-02-08 14:00:00  13.250   13.2500\n",
              "2005-02-08 15:00:00  13.900   13.9000\n",
              "2005-02-08 16:00:00  13.600   13.6000\n",
              "2005-02-08 17:00:00     NaN    9.9125\n",
              "2005-02-08 18:00:00     NaN    8.5500\n",
              "2005-02-08 19:00:00     NaN    7.7125\n",
              "2005-02-08 20:00:00     NaN    7.3750\n",
              "2005-02-08 21:00:00     NaN    7.2000"
            ],
            "text/html": [
              "\n",
              "  <div id=\"df-cdf5c132-242f-40e5-81f2-1a2fa29f59b2\">\n",
              "    <div class=\"colab-df-container\">\n",
              "      <div>\n",
              "<style scoped>\n",
              "    .dataframe tbody tr th:only-of-type {\n",
              "        vertical-align: middle;\n",
              "    }\n",
              "\n",
              "    .dataframe tbody tr th {\n",
              "        vertical-align: top;\n",
              "    }\n",
              "\n",
              "    .dataframe thead th {\n",
              "        text-align: right;\n",
              "    }\n",
              "</style>\n",
              "<table border=\"1\" class=\"dataframe\">\n",
              "  <thead>\n",
              "    <tr style=\"text-align: right;\">\n",
              "      <th></th>\n",
              "      <th>T</th>\n",
              "      <th>T_median</th>\n",
              "    </tr>\n",
              "    <tr>\n",
              "      <th>DateTime</th>\n",
              "      <th></th>\n",
              "      <th></th>\n",
              "    </tr>\n",
              "  </thead>\n",
              "  <tbody>\n",
              "    <tr>\n",
              "      <th>2005-02-08 12:00:00</th>\n",
              "      <td>11.400</td>\n",
              "      <td>11.4000</td>\n",
              "    </tr>\n",
              "    <tr>\n",
              "      <th>2005-02-08 13:00:00</th>\n",
              "      <td>12.675</td>\n",
              "      <td>12.6750</td>\n",
              "    </tr>\n",
              "    <tr>\n",
              "      <th>2005-02-08 14:00:00</th>\n",
              "      <td>13.250</td>\n",
              "      <td>13.2500</td>\n",
              "    </tr>\n",
              "    <tr>\n",
              "      <th>2005-02-08 15:00:00</th>\n",
              "      <td>13.900</td>\n",
              "      <td>13.9000</td>\n",
              "    </tr>\n",
              "    <tr>\n",
              "      <th>2005-02-08 16:00:00</th>\n",
              "      <td>13.600</td>\n",
              "      <td>13.6000</td>\n",
              "    </tr>\n",
              "    <tr>\n",
              "      <th>2005-02-08 17:00:00</th>\n",
              "      <td>NaN</td>\n",
              "      <td>9.9125</td>\n",
              "    </tr>\n",
              "    <tr>\n",
              "      <th>2005-02-08 18:00:00</th>\n",
              "      <td>NaN</td>\n",
              "      <td>8.5500</td>\n",
              "    </tr>\n",
              "    <tr>\n",
              "      <th>2005-02-08 19:00:00</th>\n",
              "      <td>NaN</td>\n",
              "      <td>7.7125</td>\n",
              "    </tr>\n",
              "    <tr>\n",
              "      <th>2005-02-08 20:00:00</th>\n",
              "      <td>NaN</td>\n",
              "      <td>7.3750</td>\n",
              "    </tr>\n",
              "    <tr>\n",
              "      <th>2005-02-08 21:00:00</th>\n",
              "      <td>NaN</td>\n",
              "      <td>7.2000</td>\n",
              "    </tr>\n",
              "  </tbody>\n",
              "</table>\n",
              "</div>\n",
              "      <button class=\"colab-df-convert\" onclick=\"convertToInteractive('df-cdf5c132-242f-40e5-81f2-1a2fa29f59b2')\"\n",
              "              title=\"Convert this dataframe to an interactive table.\"\n",
              "              style=\"display:none;\">\n",
              "        \n",
              "  <svg xmlns=\"http://www.w3.org/2000/svg\" height=\"24px\"viewBox=\"0 0 24 24\"\n",
              "       width=\"24px\">\n",
              "    <path d=\"M0 0h24v24H0V0z\" fill=\"none\"/>\n",
              "    <path d=\"M18.56 5.44l.94 2.06.94-2.06 2.06-.94-2.06-.94-.94-2.06-.94 2.06-2.06.94zm-11 1L8.5 8.5l.94-2.06 2.06-.94-2.06-.94L8.5 2.5l-.94 2.06-2.06.94zm10 10l.94 2.06.94-2.06 2.06-.94-2.06-.94-.94-2.06-.94 2.06-2.06.94z\"/><path d=\"M17.41 7.96l-1.37-1.37c-.4-.4-.92-.59-1.43-.59-.52 0-1.04.2-1.43.59L10.3 9.45l-7.72 7.72c-.78.78-.78 2.05 0 2.83L4 21.41c.39.39.9.59 1.41.59.51 0 1.02-.2 1.41-.59l7.78-7.78 2.81-2.81c.8-.78.8-2.07 0-2.86zM5.41 20L4 18.59l7.72-7.72 1.47 1.35L5.41 20z\"/>\n",
              "  </svg>\n",
              "      </button>\n",
              "      \n",
              "  <style>\n",
              "    .colab-df-container {\n",
              "      display:flex;\n",
              "      flex-wrap:wrap;\n",
              "      gap: 12px;\n",
              "    }\n",
              "\n",
              "    .colab-df-convert {\n",
              "      background-color: #E8F0FE;\n",
              "      border: none;\n",
              "      border-radius: 50%;\n",
              "      cursor: pointer;\n",
              "      display: none;\n",
              "      fill: #1967D2;\n",
              "      height: 32px;\n",
              "      padding: 0 0 0 0;\n",
              "      width: 32px;\n",
              "    }\n",
              "\n",
              "    .colab-df-convert:hover {\n",
              "      background-color: #E2EBFA;\n",
              "      box-shadow: 0px 1px 2px rgba(60, 64, 67, 0.3), 0px 1px 3px 1px rgba(60, 64, 67, 0.15);\n",
              "      fill: #174EA6;\n",
              "    }\n",
              "\n",
              "    [theme=dark] .colab-df-convert {\n",
              "      background-color: #3B4455;\n",
              "      fill: #D2E3FC;\n",
              "    }\n",
              "\n",
              "    [theme=dark] .colab-df-convert:hover {\n",
              "      background-color: #434B5C;\n",
              "      box-shadow: 0px 1px 3px 1px rgba(0, 0, 0, 0.15);\n",
              "      filter: drop-shadow(0px 1px 2px rgba(0, 0, 0, 0.3));\n",
              "      fill: #FFFFFF;\n",
              "    }\n",
              "  </style>\n",
              "\n",
              "      <script>\n",
              "        const buttonEl =\n",
              "          document.querySelector('#df-cdf5c132-242f-40e5-81f2-1a2fa29f59b2 button.colab-df-convert');\n",
              "        buttonEl.style.display =\n",
              "          google.colab.kernel.accessAllowed ? 'block' : 'none';\n",
              "\n",
              "        async function convertToInteractive(key) {\n",
              "          const element = document.querySelector('#df-cdf5c132-242f-40e5-81f2-1a2fa29f59b2');\n",
              "          const dataTable =\n",
              "            await google.colab.kernel.invokeFunction('convertToInteractive',\n",
              "                                                     [key], {});\n",
              "          if (!dataTable) return;\n",
              "\n",
              "          const docLinkHtml = 'Like what you see? Visit the ' +\n",
              "            '<a target=\"_blank\" href=https://colab.research.google.com/notebooks/data_table.ipynb>data table notebook</a>'\n",
              "            + ' to learn more about interactive tables.';\n",
              "          element.innerHTML = '';\n",
              "          dataTable['output_type'] = 'display_data';\n",
              "          await google.colab.output.renderOutput(dataTable, element);\n",
              "          const docLink = document.createElement('div');\n",
              "          docLink.innerHTML = docLinkHtml;\n",
              "          element.appendChild(docLink);\n",
              "        }\n",
              "      </script>\n",
              "    </div>\n",
              "  </div>\n",
              "  "
            ]
          },
          "metadata": {},
          "execution_count": 15
        }
      ]
    },
    {
      "cell_type": "code",
      "source": [
        "plt.figure(figsize=(10, 7))\n",
        "plt.title('Filling missing values by the hourly median of each month', fontweight='bold')\n",
        "plt.scatter(x=d10['T_median'].loc['2005-02-01 12:00:00':'2005-02-15 12:00:00'].index, y=d10['T_median'].loc['2005-02-01 12:00:00':'2005-02-15 12:00:00']);\n"
      ],
      "metadata": {
        "colab": {
          "base_uri": "https://localhost:8080/",
          "height": 444
        },
        "id": "bFsrnFozuJI2",
        "outputId": "5fc24dea-889f-48ad-beac-ec135145dd8b"
      },
      "execution_count": 16,
      "outputs": [
        {
          "output_type": "display_data",
          "data": {
            "text/plain": [
              "<Figure size 720x504 with 1 Axes>"
            ],
            "image/png": "[encoded data removed]"
          },
          "metadata": {
            "needs_background": "light"
          }
        }
      ]
    },
    {
      "cell_type": "markdown",
      "source": [
        "<b>Imputing missing values using the hourly median of each month is doing quite decent job as compared to others....  so ww'll go with it to substitute missing values in other columns too.</b>"
      ],
      "metadata": {
        "id": "FZxGYo7nwoEp"
      }
    },
    {
      "cell_type": "code",
      "source": [
        "# Filling missing values by the hourly median of each month\n",
        "data['Month'] = data.Date.dt.month\n",
        "for col in data.columns:\n",
        "  if col not in ['Date', 'Time', 'Month']:\n",
        "    data[col+'_median'] = data.groupby(['Month', 'Time'])[col].transform(lambda x:x.fillna(x.median()))"
      ],
      "metadata": {
        "id": "zRFoysyGxOcA"
      },
      "execution_count": 26,
      "outputs": []
    },
    {
      "cell_type": "code",
      "source": [
        "data.isna().sum()"
      ],
      "metadata": {
        "colab": {
          "base_uri": "https://localhost:8080/"
        },
        "id": "ebs5gSLgxvSg",
        "outputId": "2dc31c4d-9b46-4b6d-9307-6616cb88cd78"
      },
      "execution_count": 27,
      "outputs": [
        {
          "output_type": "execute_result",
          "data": {
            "text/plain": [
              "Date                       0\n",
              "Time                       0\n",
              "CO(GT)                  1683\n",
              "PT08.S1(CO)              366\n",
              "C6H6(GT)                 366\n",
              "PT08.S2(NMHC)            366\n",
              "NOx(GT)                 1639\n",
              "PT08.S3(NOx)             366\n",
              "NO2(GT)                 1642\n",
              "PT08.S4(NO2)             366\n",
              "PT08.S5(O3)              366\n",
              "T                        366\n",
              "RH                       366\n",
              "AH                       366\n",
              "Month                      0\n",
              "CO(GT)_median             31\n",
              "PT08.S1(CO)_median         0\n",
              "C6H6(GT)_median            0\n",
              "PT08.S2(NMHC)_median       0\n",
              "NOx(GT)_median           274\n",
              "PT08.S3(NOx)_median        0\n",
              "NO2(GT)_median           274\n",
              "PT08.S4(NO2)_median        0\n",
              "PT08.S5(O3)_median         0\n",
              "T_median                   0\n",
              "RH_median                  0\n",
              "AH_median                  0\n",
              "dtype: int64"
            ]
          },
          "metadata": {},
          "execution_count": 27
        }
      ]
    },
    {
      "cell_type": "code",
      "source": [
        "data['CO(GT)'] = data['CO(GT)_median']\n",
        "data['PT08.S1(CO)'] = data['PT08.S1(CO)_median']\n",
        "data['C6H6(GT)'] = data['C6H6(GT)_median']\n",
        "data['PT08.S2(NMHC)'] = data['PT08.S2(NMHC)_median']\n",
        "data['NOx(GT)'] = data['NOx(GT)_median']\n",
        "data['PT08.S3(NOx)'] = data['PT08.S3(NOx)_median'] \n",
        "data['NO2(GT)'] = data['NO2(GT)_median']\n",
        "data['PT08.S4(NO2)'] = data['PT08.S4(NO2)_median']\n",
        "data['PT08.S5(O3)'] = data['PT08.S5(O3)_median']\n",
        "data['T'] = data['T_median']\n",
        "data['RH'] = data['RH_median'] \n",
        "data['AH'] = data['AH_median']"
      ],
      "metadata": {
        "id": "3XC3dk5n6SRV"
      },
      "execution_count": 28,
      "outputs": []
    },
    {
      "cell_type": "code",
      "source": [
        "data.drop(['CO(GT)_median', 'PT08.S1(CO)_median', 'C6H6(GT)_median', 'PT08.S2(NMHC)_median', 'NOx(GT)_median', 'PT08.S3(NOx)_median', \n",
        "           'NO2(GT)_median', 'PT08.S4(NO2)_median', 'PT08.S5(O3)_median', 'T_median', 'AH_median', 'RH_median'], axis=1, inplace=True)"
      ],
      "metadata": {
        "id": "-LxBRKqb-S-M"
      },
      "execution_count": 29,
      "outputs": []
    },
    {
      "cell_type": "code",
      "source": [
        "data.isna().sum()"
      ],
      "metadata": {
        "colab": {
          "base_uri": "https://localhost:8080/"
        },
        "id": "2-_iYTFC--M6",
        "outputId": "4274591c-8417-4008-acda-8cd173f21bed"
      },
      "execution_count": 30,
      "outputs": [
        {
          "output_type": "execute_result",
          "data": {
            "text/plain": [
              "Date               0\n",
              "Time               0\n",
              "CO(GT)            31\n",
              "PT08.S1(CO)        0\n",
              "C6H6(GT)           0\n",
              "PT08.S2(NMHC)      0\n",
              "NOx(GT)          274\n",
              "PT08.S3(NOx)       0\n",
              "NO2(GT)          274\n",
              "PT08.S4(NO2)       0\n",
              "PT08.S5(O3)        0\n",
              "T                  0\n",
              "RH                 0\n",
              "AH                 0\n",
              "Month              0\n",
              "dtype: int64"
            ]
          },
          "metadata": {},
          "execution_count": 30
        }
      ]
    },
    {
      "cell_type": "code",
      "source": [
        "data.loc[data['CO(GT)'].isnull()]"
      ],
      "metadata": {
        "colab": {
          "base_uri": "https://localhost:8080/",
          "height": 1000
        },
        "id": "GwJVvXY0HMX8",
        "outputId": "1fb0ff1b-4f12-4984-f953-0579c42476e3"
      },
      "execution_count": 31,
      "outputs": [
        {
          "output_type": "execute_result",
          "data": {
            "text/plain": [
              "                          Date      Time  CO(GT)  PT08.S1(CO)  C6H6(GT)  \\\n",
              "DateTime                                                                  \n",
              "2004-05-01 04:00:00 2004-05-01  04:00:00     NaN       882.25  3.542514   \n",
              "2004-05-02 04:00:00 2004-05-02  04:00:00     NaN       854.25  3.297505   \n",
              "2004-05-03 04:00:00 2004-05-03  04:00:00     NaN       875.50  1.528069   \n",
              "2004-05-04 04:00:00 2004-05-04  04:00:00     NaN       880.75  1.519090   \n",
              "2004-05-05 04:00:00 2004-05-05  04:00:00     NaN       866.50  2.059523   \n",
              "2004-05-06 04:00:00 2004-05-06  04:00:00     NaN       758.25  1.186720   \n",
              "2004-05-07 04:00:00 2004-05-07  04:00:00     NaN       831.00  2.246786   \n",
              "2004-05-08 04:00:00 2004-05-08  04:00:00     NaN       771.75  1.200205   \n",
              "2004-05-09 04:00:00 2004-05-09  04:00:00     NaN      1024.75  8.369357   \n",
              "2004-05-10 04:00:00 2004-05-10  04:00:00     NaN       828.50  1.817505   \n",
              "2004-05-11 04:00:00 2004-05-11  04:00:00     NaN       807.25  1.830431   \n",
              "2004-05-12 04:00:00 2004-05-12  04:00:00     NaN       872.00  2.687517   \n",
              "2004-05-13 04:00:00 2004-05-13  04:00:00     NaN       792.00  1.022415   \n",
              "2004-05-14 04:00:00 2004-05-14  04:00:00     NaN       988.25  6.052793   \n",
              "2004-05-15 04:00:00 2004-05-15  04:00:00     NaN       867.25  4.420432   \n",
              "2004-05-16 04:00:00 2004-05-16  04:00:00     NaN       807.75  2.649510   \n",
              "2004-05-17 04:00:00 2004-05-17  04:00:00     NaN       804.75  1.378511   \n",
              "2004-05-18 04:00:00 2004-05-18  04:00:00     NaN       831.50  1.525073   \n",
              "2004-05-19 04:00:00 2004-05-19  04:00:00     NaN       845.50  2.183593   \n",
              "2004-05-20 04:00:00 2004-05-20  04:00:00     NaN       876.50  1.555141   \n",
              "2004-05-21 04:00:00 2004-05-21  04:00:00     NaN       888.00  2.806803   \n",
              "2004-05-22 04:00:00 2004-05-22  04:00:00     NaN       950.50  4.045717   \n",
              "2004-05-23 04:00:00 2004-05-23  04:00:00     NaN       972.50  4.946833   \n",
              "2004-05-24 04:00:00 2004-05-24  04:00:00     NaN       753.25  0.464418   \n",
              "2004-05-25 04:00:00 2004-05-25  04:00:00     NaN       742.00  0.897123   \n",
              "2004-05-26 04:00:00 2004-05-26  04:00:00     NaN       838.50  2.121558   \n",
              "2004-05-27 04:00:00 2004-05-27  04:00:00     NaN       803.00  2.025609   \n",
              "2004-05-28 04:00:00 2004-05-28  04:00:00     NaN       789.25  2.771944   \n",
              "2004-05-29 04:00:00 2004-05-29  04:00:00     NaN       853.25  4.303271   \n",
              "2004-05-30 04:00:00 2004-05-30  04:00:00     NaN       815.25  5.201754   \n",
              "2004-05-31 04:00:00 2004-05-31  04:00:00     NaN       735.75  1.310414   \n",
              "\n",
              "                     PT08.S2(NMHC)  NOx(GT)  PT08.S3(NOx)  NO2(GT)  \\\n",
              "DateTime                                                             \n",
              "2004-05-01 04:00:00         684.75     35.0     1133.5000     42.0   \n",
              "2004-05-02 04:00:00         670.25     26.0     1141.2500     35.0   \n",
              "2004-05-03 04:00:00         547.00     25.0     1256.2500     33.0   \n",
              "2004-05-04 04:00:00         546.25     21.0     1334.5000     28.0   \n",
              "2004-05-05 04:00:00         588.50     28.0     1266.7500     41.0   \n",
              "2004-05-06 04:00:00         517.00     15.0     1436.3125     22.0   \n",
              "2004-05-07 04:00:00         602.00     32.0     1269.0000     41.0   \n",
              "2004-05-08 04:00:00         518.25     30.0     1436.3125     41.0   \n",
              "2004-05-09 04:00:00         914.25     30.0      855.7500     41.0   \n",
              "2004-05-10 04:00:00         570.25     30.0     1304.2500     41.0   \n",
              "2004-05-11 04:00:00         571.25     46.0     1305.2500     53.0   \n",
              "2004-05-12 04:00:00         632.00     37.0     1132.2500     47.0   \n",
              "2004-05-13 04:00:00         501.25     21.0     1436.3125     25.0   \n",
              "2004-05-14 04:00:00         814.25     74.0      908.2500     87.0   \n",
              "2004-05-15 04:00:00         733.50     48.0     1043.0000     58.0   \n",
              "2004-05-16 04:00:00         629.50     30.0     1233.5000     43.0   \n",
              "2004-05-17 04:00:00         534.25     28.0     1436.3125     40.0   \n",
              "2004-05-18 04:00:00         546.75     15.0     1319.5000     23.0   \n",
              "2004-05-19 04:00:00         597.50     33.0     1210.7500     52.0   \n",
              "2004-05-20 04:00:00         549.25     14.0     1265.2500     26.0   \n",
              "2004-05-21 04:00:00         639.75     33.0     1088.5000     47.0   \n",
              "2004-05-22 04:00:00         713.25     42.0      993.5000     58.0   \n",
              "2004-05-23 04:00:00         760.75     49.0      953.7500     55.0   \n",
              "2004-05-24 04:00:00         437.00     14.0     1436.3125     19.0   \n",
              "2004-05-25 04:00:00         488.50     19.0     1436.3125     30.0   \n",
              "2004-05-26 04:00:00         593.00     30.0     1266.0000     41.0   \n",
              "2004-05-27 04:00:00         586.00     30.0     1436.3125     41.0   \n",
              "2004-05-28 04:00:00         637.50     30.0     1304.5000     41.0   \n",
              "2004-05-29 04:00:00         727.25     44.0     1179.2500     59.0   \n",
              "2004-05-30 04:00:00         773.50     43.0     1113.0000     55.0   \n",
              "2004-05-31 04:00:00         528.25     19.0     1436.3125     32.0   \n",
              "\n",
              "                     PT08.S4(NO2)  PT08.S5(O3)          T         RH  \\\n",
              "DateTime                                                               \n",
              "2004-05-01 04:00:00       1492.00       672.75  16.175000  69.900000   \n",
              "2004-05-02 04:00:00       1460.00       683.50  14.825000  65.800001   \n",
              "2004-05-03 04:00:00       1351.00       504.75  15.950000  61.374999   \n",
              "2004-05-04 04:00:00       1465.00       457.75  15.550000  81.025002   \n",
              "2004-05-05 04:00:00       1439.00       468.25  14.675000  74.099998   \n",
              "2004-05-06 04:00:00       1294.00       350.75  13.100000  67.125000   \n",
              "2004-05-07 04:00:00       1385.75       535.25  14.000000  67.825001   \n",
              "2004-05-08 04:00:00       1202.25       343.25  10.875000  67.549998   \n",
              "2004-05-09 04:00:00       1605.00      1003.00  12.325000  68.049999   \n",
              "2004-05-10 04:00:00       1356.50       561.75  14.200000  62.925000   \n",
              "2004-05-11 04:00:00       1334.75       704.25  11.400000  70.474998   \n",
              "2004-05-12 04:00:00       1402.75       768.00  15.625000  62.175000   \n",
              "2004-05-13 04:00:00       1252.00       353.75  16.175000  53.000000   \n",
              "2004-05-14 04:00:00       1512.00       920.50  15.525000  59.924999   \n",
              "2004-05-15 04:00:00       1324.25       808.00  14.600000  51.374999   \n",
              "2004-05-16 04:00:00       1256.25       573.00  15.225000  45.549999   \n",
              "2004-05-17 04:00:00       1112.25       409.00  16.275001  34.075000   \n",
              "2004-05-18 04:00:00       1253.75       468.75  18.325000  39.999999   \n",
              "2004-05-19 04:00:00       1332.25       668.50  16.325000  51.400001   \n",
              "2004-05-20 04:00:00       1316.75       462.75  19.575000  47.650001   \n",
              "2004-05-21 04:00:00       1330.00       670.25  16.450000  50.200000   \n",
              "2004-05-22 04:00:00       1385.00       821.25  16.950000  49.825000   \n",
              "2004-05-23 04:00:00       1501.25       814.75  18.000000  57.650000   \n",
              "2004-05-24 04:00:00       1109.50       300.50  16.250000  40.974999   \n",
              "2004-05-25 04:00:00       1047.50       403.25  13.975000  33.724999   \n",
              "2004-05-26 04:00:00       1333.50       572.75  15.787500  53.275000   \n",
              "2004-05-27 04:00:00       1231.75       572.50  18.050000  40.924999   \n",
              "2004-05-28 04:00:00       1309.00       671.75  15.200000  53.550000   \n",
              "2004-05-29 04:00:00       1417.25       621.00  17.650001  51.875000   \n",
              "2004-05-30 04:00:00       1374.00       711.75  17.050000  47.650001   \n",
              "2004-05-31 04:00:00       1254.25       476.75  18.700000  45.400000   \n",
              "\n",
              "                           AH  Month  \n",
              "DateTime                              \n",
              "2004-05-01 04:00:00  1.275573      5  \n",
              "2004-05-02 04:00:00  1.102810      5  \n",
              "2004-05-03 04:00:00  1.104294      5  \n",
              "2004-05-04 04:00:00  1.421615      5  \n",
              "2004-05-05 04:00:00  1.230171      5  \n",
              "2004-05-06 04:00:00  1.007936      5  \n",
              "2004-05-07 04:00:00  1.078724      5  \n",
              "2004-05-08 04:00:00  0.878532      5  \n",
              "2004-05-09 04:00:00  0.972180      5  \n",
              "2004-05-10 04:00:00  1.013613      5  \n",
              "2004-05-11 04:00:00  0.948381      5  \n",
              "2004-05-12 04:00:00  1.096051      5  \n",
              "2004-05-13 04:00:00  0.967173      5  \n",
              "2004-05-14 04:00:00  1.049753      5  \n",
              "2004-05-15 04:00:00  0.848856      5  \n",
              "2004-05-16 04:00:00  0.782976      5  \n",
              "2004-05-17 04:00:00  0.625731      5  \n",
              "2004-05-18 04:00:00  0.834513      5  \n",
              "2004-05-19 04:00:00  0.946839      5  \n",
              "2004-05-20 04:00:00  1.073615      5  \n",
              "2004-05-21 04:00:00  0.932003      5  \n",
              "2004-05-22 04:00:00  0.954408      5  \n",
              "2004-05-23 04:00:00  1.178795      5  \n",
              "2004-05-24 04:00:00  0.751260      5  \n",
              "2004-05-25 04:00:00  0.535527      5  \n",
              "2004-05-26 04:00:00  0.968264      5  \n",
              "2004-05-27 04:00:00  0.839407      5  \n",
              "2004-05-28 04:00:00  0.919039      5  \n",
              "2004-05-29 04:00:00  1.037933      5  \n",
              "2004-05-30 04:00:00  0.918457      5  \n",
              "2004-05-31 04:00:00  0.969355      5  "
            ],
            "text/html": [
              "\n",
              "  <div id=\"df-10270d5e-d379-4174-8d3a-9df6b87e5a4e\">\n",
              "    <div class=\"colab-df-container\">\n",
              "      <div>\n",
              "<style scoped>\n",
              "    .dataframe tbody tr th:only-of-type {\n",
              "        vertical-align: middle;\n",
              "    }\n",
              "\n",
              "    .dataframe tbody tr th {\n",
              "        vertical-align: top;\n",
              "    }\n",
              "\n",
              "    .dataframe thead th {\n",
              "        text-align: right;\n",
              "    }\n",
              "</style>\n",
              "<table border=\"1\" class=\"dataframe\">\n",
              "  <thead>\n",
              "    <tr style=\"text-align: right;\">\n",
              "      <th></th>\n",
              "      <th>Date</th>\n",
              "      <th>Time</th>\n",
              "      <th>CO(GT)</th>\n",
              "      <th>PT08.S1(CO)</th>\n",
              "      <th>C6H6(GT)</th>\n",
              "      <th>PT08.S2(NMHC)</th>\n",
              "      <th>NOx(GT)</th>\n",
              "      <th>PT08.S3(NOx)</th>\n",
              "      <th>NO2(GT)</th>\n",
              "      <th>PT08.S4(NO2)</th>\n",
              "      <th>PT08.S5(O3)</th>\n",
              "      <th>T</th>\n",
              "      <th>RH</th>\n",
              "      <th>AH</th>\n",
              "      <th>Month</th>\n",
              "    </tr>\n",
              "    <tr>\n",
              "      <th>DateTime</th>\n",
              "      <th></th>\n",
              "      <th></th>\n",
              "      <th></th>\n",
              "      <th></th>\n",
              "      <th></th>\n",
              "      <th></th>\n",
              "      <th></th>\n",
              "      <th></th>\n",
              "      <th></th>\n",
              "      <th></th>\n",
              "      <th></th>\n",
              "      <th></th>\n",
              "      <th></th>\n",
              "      <th></th>\n",
              "      <th></th>\n",
              "    </tr>\n",
              "  </thead>\n",
              "  <tbody>\n",
              "    <tr>\n",
              "      <th>2004-05-01 04:00:00</th>\n",
              "      <td>2004-05-01</td>\n",
              "      <td>04:00:00</td>\n",
              "      <td>NaN</td>\n",
              "      <td>882.25</td>\n",
              "      <td>3.542514</td>\n",
              "      <td>684.75</td>\n",
              "      <td>35.0</td>\n",
              "      <td>1133.5000</td>\n",
              "      <td>42.0</td>\n",
              "      <td>1492.00</td>\n",
              "      <td>672.75</td>\n",
              "      <td>16.175000</td>\n",
              "      <td>69.900000</td>\n",
              "      <td>1.275573</td>\n",
              "      <td>5</td>\n",
              "    </tr>\n",
              "    <tr>\n",
              "      <th>2004-05-02 04:00:00</th>\n",
              "      <td>2004-05-02</td>\n",
              "      <td>04:00:00</td>\n",
              "      <td>NaN</td>\n",
              "      <td>854.25</td>\n",
              "      <td>3.297505</td>\n",
              "      <td>670.25</td>\n",
              "      <td>26.0</td>\n",
              "      <td>1141.2500</td>\n",
              "      <td>35.0</td>\n",
              "      <td>1460.00</td>\n",
              "      <td>683.50</td>\n",
              "      <td>14.825000</td>\n",
              "      <td>65.800001</td>\n",
              "      <td>1.102810</td>\n",
              "      <td>5</td>\n",
              "    </tr>\n",
              "    <tr>\n",
              "      <th>2004-05-03 04:00:00</th>\n",
              "      <td>2004-05-03</td>\n",
              "      <td>04:00:00</td>\n",
              "      <td>NaN</td>\n",
              "      <td>875.50</td>\n",
              "      <td>1.528069</td>\n",
              "      <td>547.00</td>\n",
              "      <td>25.0</td>\n",
              "      <td>1256.2500</td>\n",
              "      <td>33.0</td>\n",
              "      <td>1351.00</td>\n",
              "      <td>504.75</td>\n",
              "      <td>15.950000</td>\n",
              "      <td>61.374999</td>\n",
              "      <td>1.104294</td>\n",
              "      <td>5</td>\n",
              "    </tr>\n",
              "    <tr>\n",
              "      <th>2004-05-04 04:00:00</th>\n",
              "      <td>2004-05-04</td>\n",
              "      <td>04:00:00</td>\n",
              "      <td>NaN</td>\n",
              "      <td>880.75</td>\n",
              "      <td>1.519090</td>\n",
              "      <td>546.25</td>\n",
              "      <td>21.0</td>\n",
              "      <td>1334.5000</td>\n",
              "      <td>28.0</td>\n",
              "      <td>1465.00</td>\n",
              "      <td>457.75</td>\n",
              "      <td>15.550000</td>\n",
              "      <td>81.025002</td>\n",
              "      <td>1.421615</td>\n",
              "      <td>5</td>\n",
              "    </tr>\n",
              "    <tr>\n",
              "      <th>2004-05-05 04:00:00</th>\n",
              "      <td>2004-05-05</td>\n",
              "      <td>04:00:00</td>\n",
              "      <td>NaN</td>\n",
              "      <td>866.50</td>\n",
              "      <td>2.059523</td>\n",
              "      <td>588.50</td>\n",
              "      <td>28.0</td>\n",
              "      <td>1266.7500</td>\n",
              "      <td>41.0</td>\n",
              "      <td>1439.00</td>\n",
              "      <td>468.25</td>\n",
              "      <td>14.675000</td>\n",
              "      <td>74.099998</td>\n",
              "      <td>1.230171</td>\n",
              "      <td>5</td>\n",
              "    </tr>\n",
              "    <tr>\n",
              "      <th>2004-05-06 04:00:00</th>\n",
              "      <td>2004-05-06</td>\n",
              "      <td>04:00:00</td>\n",
              "      <td>NaN</td>\n",
              "      <td>758.25</td>\n",
              "      <td>1.186720</td>\n",
              "      <td>517.00</td>\n",
              "      <td>15.0</td>\n",
              "      <td>1436.3125</td>\n",
              "      <td>22.0</td>\n",
              "      <td>1294.00</td>\n",
              "      <td>350.75</td>\n",
              "      <td>13.100000</td>\n",
              "      <td>67.125000</td>\n",
              "      <td>1.007936</td>\n",
              "      <td>5</td>\n",
              "    </tr>\n",
              "    <tr>\n",
              "      <th>2004-05-07 04:00:00</th>\n",
              "      <td>2004-05-07</td>\n",
              "      <td>04:00:00</td>\n",
              "      <td>NaN</td>\n",
              "      <td>831.00</td>\n",
              "      <td>2.246786</td>\n",
              "      <td>602.00</td>\n",
              "      <td>32.0</td>\n",
              "      <td>1269.0000</td>\n",
              "      <td>41.0</td>\n",
              "      <td>1385.75</td>\n",
              "      <td>535.25</td>\n",
              "      <td>14.000000</td>\n",
              "      <td>67.825001</td>\n",
              "      <td>1.078724</td>\n",
              "      <td>5</td>\n",
              "    </tr>\n",
              "    <tr>\n",
              "      <th>2004-05-08 04:00:00</th>\n",
              "      <td>2004-05-08</td>\n",
              "      <td>04:00:00</td>\n",
              "      <td>NaN</td>\n",
              "      <td>771.75</td>\n",
              "      <td>1.200205</td>\n",
              "      <td>518.25</td>\n",
              "      <td>30.0</td>\n",
              "      <td>1436.3125</td>\n",
              "      <td>41.0</td>\n",
              "      <td>1202.25</td>\n",
              "      <td>343.25</td>\n",
              "      <td>10.875000</td>\n",
              "      <td>67.549998</td>\n",
              "      <td>0.878532</td>\n",
              "      <td>5</td>\n",
              "    </tr>\n",
              "    <tr>\n",
              "      <th>2004-05-09 04:00:00</th>\n",
              "      <td>2004-05-09</td>\n",
              "      <td>04:00:00</td>\n",
              "      <td>NaN</td>\n",
              "      <td>1024.75</td>\n",
              "      <td>8.369357</td>\n",
              "      <td>914.25</td>\n",
              "      <td>30.0</td>\n",
              "      <td>855.7500</td>\n",
              "      <td>41.0</td>\n",
              "      <td>1605.00</td>\n",
              "      <td>1003.00</td>\n",
              "      <td>12.325000</td>\n",
              "      <td>68.049999</td>\n",
              "      <td>0.972180</td>\n",
              "      <td>5</td>\n",
              "    </tr>\n",
              "    <tr>\n",
              "      <th>2004-05-10 04:00:00</th>\n",
              "      <td>2004-05-10</td>\n",
              "      <td>04:00:00</td>\n",
              "      <td>NaN</td>\n",
              "      <td>828.50</td>\n",
              "      <td>1.817505</td>\n",
              "      <td>570.25</td>\n",
              "      <td>30.0</td>\n",
              "      <td>1304.2500</td>\n",
              "      <td>41.0</td>\n",
              "      <td>1356.50</td>\n",
              "      <td>561.75</td>\n",
              "      <td>14.200000</td>\n",
              "      <td>62.925000</td>\n",
              "      <td>1.013613</td>\n",
              "      <td>5</td>\n",
              "    </tr>\n",
              "    <tr>\n",
              "      <th>2004-05-11 04:00:00</th>\n",
              "      <td>2004-05-11</td>\n",
              "      <td>04:00:00</td>\n",
              "      <td>NaN</td>\n",
              "      <td>807.25</td>\n",
              "      <td>1.830431</td>\n",
              "      <td>571.25</td>\n",
              "      <td>46.0</td>\n",
              "      <td>1305.2500</td>\n",
              "      <td>53.0</td>\n",
              "      <td>1334.75</td>\n",
              "      <td>704.25</td>\n",
              "      <td>11.400000</td>\n",
              "      <td>70.474998</td>\n",
              "      <td>0.948381</td>\n",
              "      <td>5</td>\n",
              "    </tr>\n",
              "    <tr>\n",
              "      <th>2004-05-12 04:00:00</th>\n",
              "      <td>2004-05-12</td>\n",
              "      <td>04:00:00</td>\n",
              "      <td>NaN</td>\n",
              "      <td>872.00</td>\n",
              "      <td>2.687517</td>\n",
              "      <td>632.00</td>\n",
              "      <td>37.0</td>\n",
              "      <td>1132.2500</td>\n",
              "      <td>47.0</td>\n",
              "      <td>1402.75</td>\n",
              "      <td>768.00</td>\n",
              "      <td>15.625000</td>\n",
              "      <td>62.175000</td>\n",
              "      <td>1.096051</td>\n",
              "      <td>5</td>\n",
              "    </tr>\n",
              "    <tr>\n",
              "      <th>2004-05-13 04:00:00</th>\n",
              "      <td>2004-05-13</td>\n",
              "      <td>04:00:00</td>\n",
              "      <td>NaN</td>\n",
              "      <td>792.00</td>\n",
              "      <td>1.022415</td>\n",
              "      <td>501.25</td>\n",
              "      <td>21.0</td>\n",
              "      <td>1436.3125</td>\n",
              "      <td>25.0</td>\n",
              "      <td>1252.00</td>\n",
              "      <td>353.75</td>\n",
              "      <td>16.175000</td>\n",
              "      <td>53.000000</td>\n",
              "      <td>0.967173</td>\n",
              "      <td>5</td>\n",
              "    </tr>\n",
              "    <tr>\n",
              "      <th>2004-05-14 04:00:00</th>\n",
              "      <td>2004-05-14</td>\n",
              "      <td>04:00:00</td>\n",
              "      <td>NaN</td>\n",
              "      <td>988.25</td>\n",
              "      <td>6.052793</td>\n",
              "      <td>814.25</td>\n",
              "      <td>74.0</td>\n",
              "      <td>908.2500</td>\n",
              "      <td>87.0</td>\n",
              "      <td>1512.00</td>\n",
              "      <td>920.50</td>\n",
              "      <td>15.525000</td>\n",
              "      <td>59.924999</td>\n",
              "      <td>1.049753</td>\n",
              "      <td>5</td>\n",
              "    </tr>\n",
              "    <tr>\n",
              "      <th>2004-05-15 04:00:00</th>\n",
              "      <td>2004-05-15</td>\n",
              "      <td>04:00:00</td>\n",
              "      <td>NaN</td>\n",
              "      <td>867.25</td>\n",
              "      <td>4.420432</td>\n",
              "      <td>733.50</td>\n",
              "      <td>48.0</td>\n",
              "      <td>1043.0000</td>\n",
              "      <td>58.0</td>\n",
              "      <td>1324.25</td>\n",
              "      <td>808.00</td>\n",
              "      <td>14.600000</td>\n",
              "      <td>51.374999</td>\n",
              "      <td>0.848856</td>\n",
              "      <td>5</td>\n",
              "    </tr>\n",
              "    <tr>\n",
              "      <th>2004-05-16 04:00:00</th>\n",
              "      <td>2004-05-16</td>\n",
              "      <td>04:00:00</td>\n",
              "      <td>NaN</td>\n",
              "      <td>807.75</td>\n",
              "      <td>2.649510</td>\n",
              "      <td>629.50</td>\n",
              "      <td>30.0</td>\n",
              "      <td>1233.5000</td>\n",
              "      <td>43.0</td>\n",
              "      <td>1256.25</td>\n",
              "      <td>573.00</td>\n",
              "      <td>15.225000</td>\n",
              "      <td>45.549999</td>\n",
              "      <td>0.782976</td>\n",
              "      <td>5</td>\n",
              "    </tr>\n",
              "    <tr>\n",
              "      <th>2004-05-17 04:00:00</th>\n",
              "      <td>2004-05-17</td>\n",
              "      <td>04:00:00</td>\n",
              "      <td>NaN</td>\n",
              "      <td>804.75</td>\n",
              "      <td>1.378511</td>\n",
              "      <td>534.25</td>\n",
              "      <td>28.0</td>\n",
              "      <td>1436.3125</td>\n",
              "      <td>40.0</td>\n",
              "      <td>1112.25</td>\n",
              "      <td>409.00</td>\n",
              "      <td>16.275001</td>\n",
              "      <td>34.075000</td>\n",
              "      <td>0.625731</td>\n",
              "      <td>5</td>\n",
              "    </tr>\n",
              "    <tr>\n",
              "      <th>2004-05-18 04:00:00</th>\n",
              "      <td>2004-05-18</td>\n",
              "      <td>04:00:00</td>\n",
              "      <td>NaN</td>\n",
              "      <td>831.50</td>\n",
              "      <td>1.525073</td>\n",
              "      <td>546.75</td>\n",
              "      <td>15.0</td>\n",
              "      <td>1319.5000</td>\n",
              "      <td>23.0</td>\n",
              "      <td>1253.75</td>\n",
              "      <td>468.75</td>\n",
              "      <td>18.325000</td>\n",
              "      <td>39.999999</td>\n",
              "      <td>0.834513</td>\n",
              "      <td>5</td>\n",
              "    </tr>\n",
              "    <tr>\n",
              "      <th>2004-05-19 04:00:00</th>\n",
              "      <td>2004-05-19</td>\n",
              "      <td>04:00:00</td>\n",
              "      <td>NaN</td>\n",
              "      <td>845.50</td>\n",
              "      <td>2.183593</td>\n",
              "      <td>597.50</td>\n",
              "      <td>33.0</td>\n",
              "      <td>1210.7500</td>\n",
              "      <td>52.0</td>\n",
              "      <td>1332.25</td>\n",
              "      <td>668.50</td>\n",
              "      <td>16.325000</td>\n",
              "      <td>51.400001</td>\n",
              "      <td>0.946839</td>\n",
              "      <td>5</td>\n",
              "    </tr>\n",
              "    <tr>\n",
              "      <th>2004-05-20 04:00:00</th>\n",
              "      <td>2004-05-20</td>\n",
              "      <td>04:00:00</td>\n",
              "      <td>NaN</td>\n",
              "      <td>876.50</td>\n",
              "      <td>1.555141</td>\n",
              "      <td>549.25</td>\n",
              "      <td>14.0</td>\n",
              "      <td>1265.2500</td>\n",
              "      <td>26.0</td>\n",
              "      <td>1316.75</td>\n",
              "      <td>462.75</td>\n",
              "      <td>19.575000</td>\n",
              "      <td>47.650001</td>\n",
              "      <td>1.073615</td>\n",
              "      <td>5</td>\n",
              "    </tr>\n",
              "    <tr>\n",
              "      <th>2004-05-21 04:00:00</th>\n",
              "      <td>2004-05-21</td>\n",
              "      <td>04:00:00</td>\n",
              "      <td>NaN</td>\n",
              "      <td>888.00</td>\n",
              "      <td>2.806803</td>\n",
              "      <td>639.75</td>\n",
              "      <td>33.0</td>\n",
              "      <td>1088.5000</td>\n",
              "      <td>47.0</td>\n",
              "      <td>1330.00</td>\n",
              "      <td>670.25</td>\n",
              "      <td>16.450000</td>\n",
              "      <td>50.200000</td>\n",
              "      <td>0.932003</td>\n",
              "      <td>5</td>\n",
              "    </tr>\n",
              "    <tr>\n",
              "      <th>2004-05-22 04:00:00</th>\n",
              "      <td>2004-05-22</td>\n",
              "      <td>04:00:00</td>\n",
              "      <td>NaN</td>\n",
              "      <td>950.50</td>\n",
              "      <td>4.045717</td>\n",
              "      <td>713.25</td>\n",
              "      <td>42.0</td>\n",
              "      <td>993.5000</td>\n",
              "      <td>58.0</td>\n",
              "      <td>1385.00</td>\n",
              "      <td>821.25</td>\n",
              "      <td>16.950000</td>\n",
              "      <td>49.825000</td>\n",
              "      <td>0.954408</td>\n",
              "      <td>5</td>\n",
              "    </tr>\n",
              "    <tr>\n",
              "      <th>2004-05-23 04:00:00</th>\n",
              "      <td>2004-05-23</td>\n",
              "      <td>04:00:00</td>\n",
              "      <td>NaN</td>\n",
              "      <td>972.50</td>\n",
              "      <td>4.946833</td>\n",
              "      <td>760.75</td>\n",
              "      <td>49.0</td>\n",
              "      <td>953.7500</td>\n",
              "      <td>55.0</td>\n",
              "      <td>1501.25</td>\n",
              "      <td>814.75</td>\n",
              "      <td>18.000000</td>\n",
              "      <td>57.650000</td>\n",
              "      <td>1.178795</td>\n",
              "      <td>5</td>\n",
              "    </tr>\n",
              "    <tr>\n",
              "      <th>2004-05-24 04:00:00</th>\n",
              "      <td>2004-05-24</td>\n",
              "      <td>04:00:00</td>\n",
              "      <td>NaN</td>\n",
              "      <td>753.25</td>\n",
              "      <td>0.464418</td>\n",
              "      <td>437.00</td>\n",
              "      <td>14.0</td>\n",
              "      <td>1436.3125</td>\n",
              "      <td>19.0</td>\n",
              "      <td>1109.50</td>\n",
              "      <td>300.50</td>\n",
              "      <td>16.250000</td>\n",
              "      <td>40.974999</td>\n",
              "      <td>0.751260</td>\n",
              "      <td>5</td>\n",
              "    </tr>\n",
              "    <tr>\n",
              "      <th>2004-05-25 04:00:00</th>\n",
              "      <td>2004-05-25</td>\n",
              "      <td>04:00:00</td>\n",
              "      <td>NaN</td>\n",
              "      <td>742.00</td>\n",
              "      <td>0.897123</td>\n",
              "      <td>488.50</td>\n",
              "      <td>19.0</td>\n",
              "      <td>1436.3125</td>\n",
              "      <td>30.0</td>\n",
              "      <td>1047.50</td>\n",
              "      <td>403.25</td>\n",
              "      <td>13.975000</td>\n",
              "      <td>33.724999</td>\n",
              "      <td>0.535527</td>\n",
              "      <td>5</td>\n",
              "    </tr>\n",
              "    <tr>\n",
              "      <th>2004-05-26 04:00:00</th>\n",
              "      <td>2004-05-26</td>\n",
              "      <td>04:00:00</td>\n",
              "      <td>NaN</td>\n",
              "      <td>838.50</td>\n",
              "      <td>2.121558</td>\n",
              "      <td>593.00</td>\n",
              "      <td>30.0</td>\n",
              "      <td>1266.0000</td>\n",
              "      <td>41.0</td>\n",
              "      <td>1333.50</td>\n",
              "      <td>572.75</td>\n",
              "      <td>15.787500</td>\n",
              "      <td>53.275000</td>\n",
              "      <td>0.968264</td>\n",
              "      <td>5</td>\n",
              "    </tr>\n",
              "    <tr>\n",
              "      <th>2004-05-27 04:00:00</th>\n",
              "      <td>2004-05-27</td>\n",
              "      <td>04:00:00</td>\n",
              "      <td>NaN</td>\n",
              "      <td>803.00</td>\n",
              "      <td>2.025609</td>\n",
              "      <td>586.00</td>\n",
              "      <td>30.0</td>\n",
              "      <td>1436.3125</td>\n",
              "      <td>41.0</td>\n",
              "      <td>1231.75</td>\n",
              "      <td>572.50</td>\n",
              "      <td>18.050000</td>\n",
              "      <td>40.924999</td>\n",
              "      <td>0.839407</td>\n",
              "      <td>5</td>\n",
              "    </tr>\n",
              "    <tr>\n",
              "      <th>2004-05-28 04:00:00</th>\n",
              "      <td>2004-05-28</td>\n",
              "      <td>04:00:00</td>\n",
              "      <td>NaN</td>\n",
              "      <td>789.25</td>\n",
              "      <td>2.771944</td>\n",
              "      <td>637.50</td>\n",
              "      <td>30.0</td>\n",
              "      <td>1304.5000</td>\n",
              "      <td>41.0</td>\n",
              "      <td>1309.00</td>\n",
              "      <td>671.75</td>\n",
              "      <td>15.200000</td>\n",
              "      <td>53.550000</td>\n",
              "      <td>0.919039</td>\n",
              "      <td>5</td>\n",
              "    </tr>\n",
              "    <tr>\n",
              "      <th>2004-05-29 04:00:00</th>\n",
              "      <td>2004-05-29</td>\n",
              "      <td>04:00:00</td>\n",
              "      <td>NaN</td>\n",
              "      <td>853.25</td>\n",
              "      <td>4.303271</td>\n",
              "      <td>727.25</td>\n",
              "      <td>44.0</td>\n",
              "      <td>1179.2500</td>\n",
              "      <td>59.0</td>\n",
              "      <td>1417.25</td>\n",
              "      <td>621.00</td>\n",
              "      <td>17.650001</td>\n",
              "      <td>51.875000</td>\n",
              "      <td>1.037933</td>\n",
              "      <td>5</td>\n",
              "    </tr>\n",
              "    <tr>\n",
              "      <th>2004-05-30 04:00:00</th>\n",
              "      <td>2004-05-30</td>\n",
              "      <td>04:00:00</td>\n",
              "      <td>NaN</td>\n",
              "      <td>815.25</td>\n",
              "      <td>5.201754</td>\n",
              "      <td>773.50</td>\n",
              "      <td>43.0</td>\n",
              "      <td>1113.0000</td>\n",
              "      <td>55.0</td>\n",
              "      <td>1374.00</td>\n",
              "      <td>711.75</td>\n",
              "      <td>17.050000</td>\n",
              "      <td>47.650001</td>\n",
              "      <td>0.918457</td>\n",
              "      <td>5</td>\n",
              "    </tr>\n",
              "    <tr>\n",
              "      <th>2004-05-31 04:00:00</th>\n",
              "      <td>2004-05-31</td>\n",
              "      <td>04:00:00</td>\n",
              "      <td>NaN</td>\n",
              "      <td>735.75</td>\n",
              "      <td>1.310414</td>\n",
              "      <td>528.25</td>\n",
              "      <td>19.0</td>\n",
              "      <td>1436.3125</td>\n",
              "      <td>32.0</td>\n",
              "      <td>1254.25</td>\n",
              "      <td>476.75</td>\n",
              "      <td>18.700000</td>\n",
              "      <td>45.400000</td>\n",
              "      <td>0.969355</td>\n",
              "      <td>5</td>\n",
              "    </tr>\n",
              "  </tbody>\n",
              "</table>\n",
              "</div>\n",
              "      <button class=\"colab-df-convert\" onclick=\"convertToInteractive('df-10270d5e-d379-4174-8d3a-9df6b87e5a4e')\"\n",
              "              title=\"Convert this dataframe to an interactive table.\"\n",
              "              style=\"display:none;\">\n",
              "        \n",
              "  <svg xmlns=\"http://www.w3.org/2000/svg\" height=\"24px\"viewBox=\"0 0 24 24\"\n",
              "       width=\"24px\">\n",
              "    <path d=\"M0 0h24v24H0V0z\" fill=\"none\"/>\n",
              "    <path d=\"M18.56 5.44l.94 2.06.94-2.06 2.06-.94-2.06-.94-.94-2.06-.94 2.06-2.06.94zm-11 1L8.5 8.5l.94-2.06 2.06-.94-2.06-.94L8.5 2.5l-.94 2.06-2.06.94zm10 10l.94 2.06.94-2.06 2.06-.94-2.06-.94-.94-2.06-.94 2.06-2.06.94z\"/><path d=\"M17.41 7.96l-1.37-1.37c-.4-.4-.92-.59-1.43-.59-.52 0-1.04.2-1.43.59L10.3 9.45l-7.72 7.72c-.78.78-.78 2.05 0 2.83L4 21.41c.39.39.9.59 1.41.59.51 0 1.02-.2 1.41-.59l7.78-7.78 2.81-2.81c.8-.78.8-2.07 0-2.86zM5.41 20L4 18.59l7.72-7.72 1.47 1.35L5.41 20z\"/>\n",
              "  </svg>\n",
              "      </button>\n",
              "      \n",
              "  <style>\n",
              "    .colab-df-container {\n",
              "      display:flex;\n",
              "      flex-wrap:wrap;\n",
              "      gap: 12px;\n",
              "    }\n",
              "\n",
              "    .colab-df-convert {\n",
              "      background-color: #E8F0FE;\n",
              "      border: none;\n",
              "      border-radius: 50%;\n",
              "      cursor: pointer;\n",
              "      display: none;\n",
              "      fill: #1967D2;\n",
              "      height: 32px;\n",
              "      padding: 0 0 0 0;\n",
              "      width: 32px;\n",
              "    }\n",
              "\n",
              "    .colab-df-convert:hover {\n",
              "      background-color: #E2EBFA;\n",
              "      box-shadow: 0px 1px 2px rgba(60, 64, 67, 0.3), 0px 1px 3px 1px rgba(60, 64, 67, 0.15);\n",
              "      fill: #174EA6;\n",
              "    }\n",
              "\n",
              "    [theme=dark] .colab-df-convert {\n",
              "      background-color: #3B4455;\n",
              "      fill: #D2E3FC;\n",
              "    }\n",
              "\n",
              "    [theme=dark] .colab-df-convert:hover {\n",
              "      background-color: #434B5C;\n",
              "      box-shadow: 0px 1px 3px 1px rgba(0, 0, 0, 0.15);\n",
              "      filter: drop-shadow(0px 1px 2px rgba(0, 0, 0, 0.3));\n",
              "      fill: #FFFFFF;\n",
              "    }\n",
              "  </style>\n",
              "\n",
              "      <script>\n",
              "        const buttonEl =\n",
              "          document.querySelector('#df-10270d5e-d379-4174-8d3a-9df6b87e5a4e button.colab-df-convert');\n",
              "        buttonEl.style.display =\n",
              "          google.colab.kernel.accessAllowed ? 'block' : 'none';\n",
              "\n",
              "        async function convertToInteractive(key) {\n",
              "          const element = document.querySelector('#df-10270d5e-d379-4174-8d3a-9df6b87e5a4e');\n",
              "          const dataTable =\n",
              "            await google.colab.kernel.invokeFunction('convertToInteractive',\n",
              "                                                     [key], {});\n",
              "          if (!dataTable) return;\n",
              "\n",
              "          const docLinkHtml = 'Like what you see? Visit the ' +\n",
              "            '<a target=\"_blank\" href=https://colab.research.google.com/notebooks/data_table.ipynb>data table notebook</a>'\n",
              "            + ' to learn more about interactive tables.';\n",
              "          element.innerHTML = '';\n",
              "          dataTable['output_type'] = 'display_data';\n",
              "          await google.colab.output.renderOutput(dataTable, element);\n",
              "          const docLink = document.createElement('div');\n",
              "          docLink.innerHTML = docLinkHtml;\n",
              "          element.appendChild(docLink);\n",
              "        }\n",
              "      </script>\n",
              "    </div>\n",
              "  </div>\n",
              "  "
            ]
          },
          "metadata": {},
          "execution_count": 31
        }
      ]
    },
    {
      "cell_type": "code",
      "source": [
        "data.loc[data['NOx(GT)'].isnull()]"
      ],
      "metadata": {
        "colab": {
          "base_uri": "https://localhost:8080/",
          "height": 455
        },
        "id": "wGtU6yGYET6a",
        "outputId": "e55aa29d-fad9-402c-ebb5-13625d78969f"
      },
      "execution_count": 32,
      "outputs": [
        {
          "output_type": "execute_result",
          "data": {
            "text/plain": [
              "                          Date      Time  CO(GT)  PT08.S1(CO)  C6H6(GT)  \\\n",
              "DateTime                                                                  \n",
              "2004-05-01 03:00:00 2004-05-01  03:00:00     1.3      1009.25  6.280934   \n",
              "2004-05-02 03:00:00 2004-05-02  03:00:00     1.6       999.75  6.573944   \n",
              "2004-05-03 03:00:00 2004-05-03  03:00:00     0.4       871.50  1.734437   \n",
              "2004-05-04 03:00:00 2004-05-04  03:00:00     0.4       872.50  1.498227   \n",
              "2004-05-05 03:00:00 2004-05-05  03:00:00     0.5       841.50  1.753459   \n",
              "...                        ...       ...     ...          ...       ...   \n",
              "2005-02-24 03:00:00 2005-02-24  03:00:00     0.7       894.50  1.498227   \n",
              "2005-02-25 03:00:00 2005-02-25  03:00:00     1.1      1009.75  3.444460   \n",
              "2005-02-26 03:00:00 2005-02-26  03:00:00     2.1      1082.00  6.680370   \n",
              "2005-02-27 03:00:00 2005-02-27  03:00:00     3.0      1034.75  5.844179   \n",
              "2005-02-28 03:00:00 2005-02-28  03:00:00     0.4       797.50  0.573995   \n",
              "\n",
              "                     PT08.S2(NMHC)  NOx(GT)  PT08.S3(NOx)  NO2(GT)  \\\n",
              "DateTime                                                             \n",
              "2004-05-01 03:00:00         824.75      NaN        950.00      NaN   \n",
              "2004-05-02 03:00:00         838.00      NaN        909.50      NaN   \n",
              "2004-05-03 03:00:00         563.75      NaN       1284.00      NaN   \n",
              "2004-05-04 03:00:00         544.50      NaN       1307.50      NaN   \n",
              "2004-05-05 03:00:00         565.25      NaN       1326.75      NaN   \n",
              "...                            ...      ...           ...      ...   \n",
              "2005-02-24 03:00:00         544.50      NaN       1079.75      NaN   \n",
              "2005-02-25 03:00:00         679.00      NaN        854.00      NaN   \n",
              "2005-02-26 03:00:00         842.75      NaN        728.75      NaN   \n",
              "2005-02-27 03:00:00         804.50      NaN        789.50      NaN   \n",
              "2005-02-28 03:00:00         451.50      NaN       1434.75      NaN   \n",
              "\n",
              "                     PT08.S4(NO2)  PT08.S5(O3)       T         RH        AH  \\\n",
              "DateTime                                                                      \n",
              "2004-05-01 03:00:00       1628.50       937.75  15.650  73.075001  1.290231   \n",
              "2004-05-02 03:00:00       1580.00       942.00  14.850  67.625000  1.135192   \n",
              "2004-05-03 03:00:00       1385.00       493.50  15.600  65.250000  1.148449   \n",
              "2004-05-04 03:00:00       1471.00       497.00  15.650  81.000002  1.430156   \n",
              "2004-05-05 03:00:00       1398.75       436.50  15.475  66.949999  1.169125   \n",
              "...                           ...          ...     ...        ...       ...   \n",
              "2005-02-24 03:00:00        963.50       684.75   4.250  80.950001  0.676972   \n",
              "2005-02-25 03:00:00       1045.75       889.25   5.000  82.949999  0.730029   \n",
              "2005-02-26 03:00:00       1061.25      1089.75   2.775  73.975000  0.559097   \n",
              "2005-02-27 03:00:00       1022.25      1038.25   3.475  68.824999  0.545840   \n",
              "2005-02-28 03:00:00        698.75       279.50   3.900  48.125001  0.392950   \n",
              "\n",
              "                     Month  \n",
              "DateTime                    \n",
              "2004-05-01 03:00:00      5  \n",
              "2004-05-02 03:00:00      5  \n",
              "2004-05-03 03:00:00      5  \n",
              "2004-05-04 03:00:00      5  \n",
              "2004-05-05 03:00:00      5  \n",
              "...                    ...  \n",
              "2005-02-24 03:00:00      2  \n",
              "2005-02-25 03:00:00      2  \n",
              "2005-02-26 03:00:00      2  \n",
              "2005-02-27 03:00:00      2  \n",
              "2005-02-28 03:00:00      2  \n",
              "\n",
              "[274 rows x 15 columns]"
            ],
            "text/html": [
              "\n",
              "  <div id=\"df-c24ae124-611d-41a4-acde-bfb3559e35ae\">\n",
              "    <div class=\"colab-df-container\">\n",
              "      <div>\n",
              "<style scoped>\n",
              "    .dataframe tbody tr th:only-of-type {\n",
              "        vertical-align: middle;\n",
              "    }\n",
              "\n",
              "    .dataframe tbody tr th {\n",
              "        vertical-align: top;\n",
              "    }\n",
              "\n",
              "    .dataframe thead th {\n",
              "        text-align: right;\n",
              "    }\n",
              "</style>\n",
              "<table border=\"1\" class=\"dataframe\">\n",
              "  <thead>\n",
              "    <tr style=\"text-align: right;\">\n",
              "      <th></th>\n",
              "      <th>Date</th>\n",
              "      <th>Time</th>\n",
              "      <th>CO(GT)</th>\n",
              "      <th>PT08.S1(CO)</th>\n",
              "      <th>C6H6(GT)</th>\n",
              "      <th>PT08.S2(NMHC)</th>\n",
              "      <th>NOx(GT)</th>\n",
              "      <th>PT08.S3(NOx)</th>\n",
              "      <th>NO2(GT)</th>\n",
              "      <th>PT08.S4(NO2)</th>\n",
              "      <th>PT08.S5(O3)</th>\n",
              "      <th>T</th>\n",
              "      <th>RH</th>\n",
              "      <th>AH</th>\n",
              "      <th>Month</th>\n",
              "    </tr>\n",
              "    <tr>\n",
              "      <th>DateTime</th>\n",
              "      <th></th>\n",
              "      <th></th>\n",
              "      <th></th>\n",
              "      <th></th>\n",
              "      <th></th>\n",
              "      <th></th>\n",
              "      <th></th>\n",
              "      <th></th>\n",
              "      <th></th>\n",
              "      <th></th>\n",
              "      <th></th>\n",
              "      <th></th>\n",
              "      <th></th>\n",
              "      <th></th>\n",
              "      <th></th>\n",
              "    </tr>\n",
              "  </thead>\n",
              "  <tbody>\n",
              "    <tr>\n",
              "      <th>2004-05-01 03:00:00</th>\n",
              "      <td>2004-05-01</td>\n",
              "      <td>03:00:00</td>\n",
              "      <td>1.3</td>\n",
              "      <td>1009.25</td>\n",
              "      <td>6.280934</td>\n",
              "      <td>824.75</td>\n",
              "      <td>NaN</td>\n",
              "      <td>950.00</td>\n",
              "      <td>NaN</td>\n",
              "      <td>1628.50</td>\n",
              "      <td>937.75</td>\n",
              "      <td>15.650</td>\n",
              "      <td>73.075001</td>\n",
              "      <td>1.290231</td>\n",
              "      <td>5</td>\n",
              "    </tr>\n",
              "    <tr>\n",
              "      <th>2004-05-02 03:00:00</th>\n",
              "      <td>2004-05-02</td>\n",
              "      <td>03:00:00</td>\n",
              "      <td>1.6</td>\n",
              "      <td>999.75</td>\n",
              "      <td>6.573944</td>\n",
              "      <td>838.00</td>\n",
              "      <td>NaN</td>\n",
              "      <td>909.50</td>\n",
              "      <td>NaN</td>\n",
              "      <td>1580.00</td>\n",
              "      <td>942.00</td>\n",
              "      <td>14.850</td>\n",
              "      <td>67.625000</td>\n",
              "      <td>1.135192</td>\n",
              "      <td>5</td>\n",
              "    </tr>\n",
              "    <tr>\n",
              "      <th>2004-05-03 03:00:00</th>\n",
              "      <td>2004-05-03</td>\n",
              "      <td>03:00:00</td>\n",
              "      <td>0.4</td>\n",
              "      <td>871.50</td>\n",
              "      <td>1.734437</td>\n",
              "      <td>563.75</td>\n",
              "      <td>NaN</td>\n",
              "      <td>1284.00</td>\n",
              "      <td>NaN</td>\n",
              "      <td>1385.00</td>\n",
              "      <td>493.50</td>\n",
              "      <td>15.600</td>\n",
              "      <td>65.250000</td>\n",
              "      <td>1.148449</td>\n",
              "      <td>5</td>\n",
              "    </tr>\n",
              "    <tr>\n",
              "      <th>2004-05-04 03:00:00</th>\n",
              "      <td>2004-05-04</td>\n",
              "      <td>03:00:00</td>\n",
              "      <td>0.4</td>\n",
              "      <td>872.50</td>\n",
              "      <td>1.498227</td>\n",
              "      <td>544.50</td>\n",
              "      <td>NaN</td>\n",
              "      <td>1307.50</td>\n",
              "      <td>NaN</td>\n",
              "      <td>1471.00</td>\n",
              "      <td>497.00</td>\n",
              "      <td>15.650</td>\n",
              "      <td>81.000002</td>\n",
              "      <td>1.430156</td>\n",
              "      <td>5</td>\n",
              "    </tr>\n",
              "    <tr>\n",
              "      <th>2004-05-05 03:00:00</th>\n",
              "      <td>2004-05-05</td>\n",
              "      <td>03:00:00</td>\n",
              "      <td>0.5</td>\n",
              "      <td>841.50</td>\n",
              "      <td>1.753459</td>\n",
              "      <td>565.25</td>\n",
              "      <td>NaN</td>\n",
              "      <td>1326.75</td>\n",
              "      <td>NaN</td>\n",
              "      <td>1398.75</td>\n",
              "      <td>436.50</td>\n",
              "      <td>15.475</td>\n",
              "      <td>66.949999</td>\n",
              "      <td>1.169125</td>\n",
              "      <td>5</td>\n",
              "    </tr>\n",
              "    <tr>\n",
              "      <th>...</th>\n",
              "      <td>...</td>\n",
              "      <td>...</td>\n",
              "      <td>...</td>\n",
              "      <td>...</td>\n",
              "      <td>...</td>\n",
              "      <td>...</td>\n",
              "      <td>...</td>\n",
              "      <td>...</td>\n",
              "      <td>...</td>\n",
              "      <td>...</td>\n",
              "      <td>...</td>\n",
              "      <td>...</td>\n",
              "      <td>...</td>\n",
              "      <td>...</td>\n",
              "      <td>...</td>\n",
              "    </tr>\n",
              "    <tr>\n",
              "      <th>2005-02-24 03:00:00</th>\n",
              "      <td>2005-02-24</td>\n",
              "      <td>03:00:00</td>\n",
              "      <td>0.7</td>\n",
              "      <td>894.50</td>\n",
              "      <td>1.498227</td>\n",
              "      <td>544.50</td>\n",
              "      <td>NaN</td>\n",
              "      <td>1079.75</td>\n",
              "      <td>NaN</td>\n",
              "      <td>963.50</td>\n",
              "      <td>684.75</td>\n",
              "      <td>4.250</td>\n",
              "      <td>80.950001</td>\n",
              "      <td>0.676972</td>\n",
              "      <td>2</td>\n",
              "    </tr>\n",
              "    <tr>\n",
              "      <th>2005-02-25 03:00:00</th>\n",
              "      <td>2005-02-25</td>\n",
              "      <td>03:00:00</td>\n",
              "      <td>1.1</td>\n",
              "      <td>1009.75</td>\n",
              "      <td>3.444460</td>\n",
              "      <td>679.00</td>\n",
              "      <td>NaN</td>\n",
              "      <td>854.00</td>\n",
              "      <td>NaN</td>\n",
              "      <td>1045.75</td>\n",
              "      <td>889.25</td>\n",
              "      <td>5.000</td>\n",
              "      <td>82.949999</td>\n",
              "      <td>0.730029</td>\n",
              "      <td>2</td>\n",
              "    </tr>\n",
              "    <tr>\n",
              "      <th>2005-02-26 03:00:00</th>\n",
              "      <td>2005-02-26</td>\n",
              "      <td>03:00:00</td>\n",
              "      <td>2.1</td>\n",
              "      <td>1082.00</td>\n",
              "      <td>6.680370</td>\n",
              "      <td>842.75</td>\n",
              "      <td>NaN</td>\n",
              "      <td>728.75</td>\n",
              "      <td>NaN</td>\n",
              "      <td>1061.25</td>\n",
              "      <td>1089.75</td>\n",
              "      <td>2.775</td>\n",
              "      <td>73.975000</td>\n",
              "      <td>0.559097</td>\n",
              "      <td>2</td>\n",
              "    </tr>\n",
              "    <tr>\n",
              "      <th>2005-02-27 03:00:00</th>\n",
              "      <td>2005-02-27</td>\n",
              "      <td>03:00:00</td>\n",
              "      <td>3.0</td>\n",
              "      <td>1034.75</td>\n",
              "      <td>5.844179</td>\n",
              "      <td>804.50</td>\n",
              "      <td>NaN</td>\n",
              "      <td>789.50</td>\n",
              "      <td>NaN</td>\n",
              "      <td>1022.25</td>\n",
              "      <td>1038.25</td>\n",
              "      <td>3.475</td>\n",
              "      <td>68.824999</td>\n",
              "      <td>0.545840</td>\n",
              "      <td>2</td>\n",
              "    </tr>\n",
              "    <tr>\n",
              "      <th>2005-02-28 03:00:00</th>\n",
              "      <td>2005-02-28</td>\n",
              "      <td>03:00:00</td>\n",
              "      <td>0.4</td>\n",
              "      <td>797.50</td>\n",
              "      <td>0.573995</td>\n",
              "      <td>451.50</td>\n",
              "      <td>NaN</td>\n",
              "      <td>1434.75</td>\n",
              "      <td>NaN</td>\n",
              "      <td>698.75</td>\n",
              "      <td>279.50</td>\n",
              "      <td>3.900</td>\n",
              "      <td>48.125001</td>\n",
              "      <td>0.392950</td>\n",
              "      <td>2</td>\n",
              "    </tr>\n",
              "  </tbody>\n",
              "</table>\n",
              "<p>274 rows × 15 columns</p>\n",
              "</div>\n",
              "      <button class=\"colab-df-convert\" onclick=\"convertToInteractive('df-c24ae124-611d-41a4-acde-bfb3559e35ae')\"\n",
              "              title=\"Convert this dataframe to an interactive table.\"\n",
              "              style=\"display:none;\">\n",
              "        \n",
              "  <svg xmlns=\"http://www.w3.org/2000/svg\" height=\"24px\"viewBox=\"0 0 24 24\"\n",
              "       width=\"24px\">\n",
              "    <path d=\"M0 0h24v24H0V0z\" fill=\"none\"/>\n",
              "    <path d=\"M18.56 5.44l.94 2.06.94-2.06 2.06-.94-2.06-.94-.94-2.06-.94 2.06-2.06.94zm-11 1L8.5 8.5l.94-2.06 2.06-.94-2.06-.94L8.5 2.5l-.94 2.06-2.06.94zm10 10l.94 2.06.94-2.06 2.06-.94-2.06-.94-.94-2.06-.94 2.06-2.06.94z\"/><path d=\"M17.41 7.96l-1.37-1.37c-.4-.4-.92-.59-1.43-.59-.52 0-1.04.2-1.43.59L10.3 9.45l-7.72 7.72c-.78.78-.78 2.05 0 2.83L4 21.41c.39.39.9.59 1.41.59.51 0 1.02-.2 1.41-.59l7.78-7.78 2.81-2.81c.8-.78.8-2.07 0-2.86zM5.41 20L4 18.59l7.72-7.72 1.47 1.35L5.41 20z\"/>\n",
              "  </svg>\n",
              "      </button>\n",
              "      \n",
              "  <style>\n",
              "    .colab-df-container {\n",
              "      display:flex;\n",
              "      flex-wrap:wrap;\n",
              "      gap: 12px;\n",
              "    }\n",
              "\n",
              "    .colab-df-convert {\n",
              "      background-color: #E8F0FE;\n",
              "      border: none;\n",
              "      border-radius: 50%;\n",
              "      cursor: pointer;\n",
              "      display: none;\n",
              "      fill: #1967D2;\n",
              "      height: 32px;\n",
              "      padding: 0 0 0 0;\n",
              "      width: 32px;\n",
              "    }\n",
              "\n",
              "    .colab-df-convert:hover {\n",
              "      background-color: #E2EBFA;\n",
              "      box-shadow: 0px 1px 2px rgba(60, 64, 67, 0.3), 0px 1px 3px 1px rgba(60, 64, 67, 0.15);\n",
              "      fill: #174EA6;\n",
              "    }\n",
              "\n",
              "    [theme=dark] .colab-df-convert {\n",
              "      background-color: #3B4455;\n",
              "      fill: #D2E3FC;\n",
              "    }\n",
              "\n",
              "    [theme=dark] .colab-df-convert:hover {\n",
              "      background-color: #434B5C;\n",
              "      box-shadow: 0px 1px 3px 1px rgba(0, 0, 0, 0.15);\n",
              "      filter: drop-shadow(0px 1px 2px rgba(0, 0, 0, 0.3));\n",
              "      fill: #FFFFFF;\n",
              "    }\n",
              "  </style>\n",
              "\n",
              "      <script>\n",
              "        const buttonEl =\n",
              "          document.querySelector('#df-c24ae124-611d-41a4-acde-bfb3559e35ae button.colab-df-convert');\n",
              "        buttonEl.style.display =\n",
              "          google.colab.kernel.accessAllowed ? 'block' : 'none';\n",
              "\n",
              "        async function convertToInteractive(key) {\n",
              "          const element = document.querySelector('#df-c24ae124-611d-41a4-acde-bfb3559e35ae');\n",
              "          const dataTable =\n",
              "            await google.colab.kernel.invokeFunction('convertToInteractive',\n",
              "                                                     [key], {});\n",
              "          if (!dataTable) return;\n",
              "\n",
              "          const docLinkHtml = 'Like what you see? Visit the ' +\n",
              "            '<a target=\"_blank\" href=https://colab.research.google.com/notebooks/data_table.ipynb>data table notebook</a>'\n",
              "            + ' to learn more about interactive tables.';\n",
              "          element.innerHTML = '';\n",
              "          dataTable['output_type'] = 'display_data';\n",
              "          await google.colab.output.renderOutput(dataTable, element);\n",
              "          const docLink = document.createElement('div');\n",
              "          docLink.innerHTML = docLinkHtml;\n",
              "          element.appendChild(docLink);\n",
              "        }\n",
              "      </script>\n",
              "    </div>\n",
              "  </div>\n",
              "  "
            ]
          },
          "metadata": {},
          "execution_count": 32
        }
      ]
    },
    {
      "cell_type": "code",
      "source": [
        "plt.figure(figsize=(10,7))\n",
        "plt.scatter(x=data['NO2(GT)'].loc['2005-02-08 00:00:00':'2005-02-12 00:00:00'].index, y=data['NO2(GT)'].loc['2005-02-08 00:00:00':'2005-02-12 00:00:00'])"
      ],
      "metadata": {
        "colab": {
          "base_uri": "https://localhost:8080/",
          "height": 446
        },
        "id": "8VaXWEHQC4fK",
        "outputId": "b0e48849-4ebb-46cd-8ff9-5e2f3fb3185d"
      },
      "execution_count": 33,
      "outputs": [
        {
          "output_type": "execute_result",
          "data": {
            "text/plain": [
              "<matplotlib.collections.PathCollection at 0x7fa9e842d0d0>"
            ]
          },
          "metadata": {},
          "execution_count": 33
        },
        {
          "output_type": "display_data",
          "data": {
            "text/plain": [
              "<Figure size 720x504 with 1 Axes>"
            ],
            "image/png": "[encoded data removed]"
          },
          "metadata": {
            "needs_background": "light"
          }
        }
      ]
    },
    {
      "cell_type": "code",
      "source": [
        "# now rest of the missing values can be filled using interpolation\n",
        "for col in ['CO(GT)', 'NO2(GT)', 'NOx(GT)']:\n",
        "  data[col] = data[col].interpolate()"
      ],
      "metadata": {
        "id": "Kh7G9h25RrPg"
      },
      "execution_count": 34,
      "outputs": []
    },
    {
      "cell_type": "code",
      "source": [
        "data.isna().sum()"
      ],
      "metadata": {
        "colab": {
          "base_uri": "https://localhost:8080/"
        },
        "id": "vV87TpY1SyoP",
        "outputId": "38ec2ea0-f768-4e01-f3dc-0cb6c64e4b3e"
      },
      "execution_count": 35,
      "outputs": [
        {
          "output_type": "execute_result",
          "data": {
            "text/plain": [
              "Date             0\n",
              "Time             0\n",
              "CO(GT)           0\n",
              "PT08.S1(CO)      0\n",
              "C6H6(GT)         0\n",
              "PT08.S2(NMHC)    0\n",
              "NOx(GT)          0\n",
              "PT08.S3(NOx)     0\n",
              "NO2(GT)          0\n",
              "PT08.S4(NO2)     0\n",
              "PT08.S5(O3)      0\n",
              "T                0\n",
              "RH               0\n",
              "AH               0\n",
              "Month            0\n",
              "dtype: int64"
            ]
          },
          "metadata": {},
          "execution_count": 35
        }
      ]
    },
    {
      "cell_type": "markdown",
      "source": [
        "Finally, the data has no missing values."
      ],
      "metadata": {
        "id": "AELJKH_lU08q"
      }
    },
    {
      "cell_type": "code",
      "source": [
        "plt.figure(figsize=(10, 7))\n",
        "sns.heatmap(data.corr(), annot=True, cmap='PuBu');"
      ],
      "metadata": {
        "colab": {
          "base_uri": "https://localhost:8080/",
          "height": 501
        },
        "id": "HLTUIIIL-U1w",
        "outputId": "0f034a89-6f66-4535-bc72-d979ab5e6ba4"
      },
      "execution_count": 36,
      "outputs": [
        {
          "output_type": "display_data",
          "data": {
            "text/plain": [
              "<Figure size 720x504 with 2 Axes>"
            ],
            "image/png": "[encoded data removed]"
          },
          "metadata": {
            "needs_background": "light"
          }
        }
      ]
    },
    {
      "cell_type": "code",
      "source": [
        "# create a dataframe df using Date, Time and only the highly correlated features with temperature 'T' from dataframe 'data'\n",
        "df = data[['Date', 'Time', 'PT08.S4(NO2)', 'T', 'RH', 'AH', ]]"
      ],
      "metadata": {
        "id": "AErs4lvEuUZB"
      },
      "execution_count": 37,
      "outputs": []
    },
    {
      "cell_type": "code",
      "source": [
        "# create lag features\n",
        "df[['PT08.S4_lag24', 'T_lag24', 'RH_lag24', 'AH_lag24']] = data[['PT08.S4(NO2)', 'T', 'RH', 'AH', ]].shift(24)"
      ],
      "metadata": {
        "id": "DF-8Y1Byhz8U"
      },
      "execution_count": 38,
      "outputs": []
    },
    {
      "cell_type": "code",
      "source": [
        "df.dropna(axis=0, inplace=True)"
      ],
      "metadata": {
        "id": "2OSNjE7olk7t"
      },
      "execution_count": 39,
      "outputs": []
    },
    {
      "cell_type": "code",
      "source": [
        "df.head()"
      ],
      "metadata": {
        "colab": {
          "base_uri": "https://localhost:8080/",
          "height": 237
        },
        "id": "X9mdC9Elki8N",
        "outputId": "ba2e4daa-2ad6-4c38-b9f6-a9878c8955fb"
      },
      "execution_count": 40,
      "outputs": [
        {
          "output_type": "execute_result",
          "data": {
            "text/plain": [
              "                          Date      Time  PT08.S4(NO2)       T         RH  \\\n",
              "DateTime                                                                    \n",
              "2004-03-11 18:00:00 2004-03-11  18:00:00       2083.00  10.350  64.174999   \n",
              "2004-03-11 19:00:00 2004-03-11  19:00:00       2332.50   9.650  69.300001   \n",
              "2004-03-11 20:00:00 2004-03-11  20:00:00       2191.25   9.650  67.750000   \n",
              "2004-03-11 21:00:00 2004-03-11  21:00:00       1706.50   9.125  63.974999   \n",
              "2004-03-11 22:00:00 2004-03-11  22:00:00       1332.50   8.175  63.400000   \n",
              "\n",
              "                           AH  PT08.S4_lag24  T_lag24   RH_lag24  AH_lag24  \n",
              "DateTime                                                                    \n",
              "2004-03-11 18:00:00  0.806544        1692.00    13.60  48.875001  0.757754  \n",
              "2004-03-11 19:00:00  0.831921        1558.75    13.30  47.700000  0.725487  \n",
              "2004-03-11 20:00:00  0.813314        1554.50    11.90  53.975000  0.750239  \n",
              "2004-03-11 21:00:00  0.741924        1583.75    11.00  60.000000  0.786713  \n",
              "2004-03-11 22:00:00  0.690484        1490.00    11.15  59.575001  0.788794  "
            ],
            "text/html": [
              "\n",
              "  <div id=\"df-ceac8374-036c-4aee-b82a-642dcf522536\">\n",
              "    <div class=\"colab-df-container\">\n",
              "      <div>\n",
              "<style scoped>\n",
              "    .dataframe tbody tr th:only-of-type {\n",
              "        vertical-align: middle;\n",
              "    }\n",
              "\n",
              "    .dataframe tbody tr th {\n",
              "        vertical-align: top;\n",
              "    }\n",
              "\n",
              "    .dataframe thead th {\n",
              "        text-align: right;\n",
              "    }\n",
              "</style>\n",
              "<table border=\"1\" class=\"dataframe\">\n",
              "  <thead>\n",
              "    <tr style=\"text-align: right;\">\n",
              "      <th></th>\n",
              "      <th>Date</th>\n",
              "      <th>Time</th>\n",
              "      <th>PT08.S4(NO2)</th>\n",
              "      <th>T</th>\n",
              "      <th>RH</th>\n",
              "      <th>AH</th>\n",
              "      <th>PT08.S4_lag24</th>\n",
              "      <th>T_lag24</th>\n",
              "      <th>RH_lag24</th>\n",
              "      <th>AH_lag24</th>\n",
              "    </tr>\n",
              "    <tr>\n",
              "      <th>DateTime</th>\n",
              "      <th></th>\n",
              "      <th></th>\n",
              "      <th></th>\n",
              "      <th></th>\n",
              "      <th></th>\n",
              "      <th></th>\n",
              "      <th></th>\n",
              "      <th></th>\n",
              "      <th></th>\n",
              "      <th></th>\n",
              "    </tr>\n",
              "  </thead>\n",
              "  <tbody>\n",
              "    <tr>\n",
              "      <th>2004-03-11 18:00:00</th>\n",
              "      <td>2004-03-11</td>\n",
              "      <td>18:00:00</td>\n",
              "      <td>2083.00</td>\n",
              "      <td>10.350</td>\n",
              "      <td>64.174999</td>\n",
              "      <td>0.806544</td>\n",
              "      <td>1692.00</td>\n",
              "      <td>13.60</td>\n",
              "      <td>48.875001</td>\n",
              "      <td>0.757754</td>\n",
              "    </tr>\n",
              "    <tr>\n",
              "      <th>2004-03-11 19:00:00</th>\n",
              "      <td>2004-03-11</td>\n",
              "      <td>19:00:00</td>\n",
              "      <td>2332.50</td>\n",
              "      <td>9.650</td>\n",
              "      <td>69.300001</td>\n",
              "      <td>0.831921</td>\n",
              "      <td>1558.75</td>\n",
              "      <td>13.30</td>\n",
              "      <td>47.700000</td>\n",
              "      <td>0.725487</td>\n",
              "    </tr>\n",
              "    <tr>\n",
              "      <th>2004-03-11 20:00:00</th>\n",
              "      <td>2004-03-11</td>\n",
              "      <td>20:00:00</td>\n",
              "      <td>2191.25</td>\n",
              "      <td>9.650</td>\n",
              "      <td>67.750000</td>\n",
              "      <td>0.813314</td>\n",
              "      <td>1554.50</td>\n",
              "      <td>11.90</td>\n",
              "      <td>53.975000</td>\n",
              "      <td>0.750239</td>\n",
              "    </tr>\n",
              "    <tr>\n",
              "      <th>2004-03-11 21:00:00</th>\n",
              "      <td>2004-03-11</td>\n",
              "      <td>21:00:00</td>\n",
              "      <td>1706.50</td>\n",
              "      <td>9.125</td>\n",
              "      <td>63.974999</td>\n",
              "      <td>0.741924</td>\n",
              "      <td>1583.75</td>\n",
              "      <td>11.00</td>\n",
              "      <td>60.000000</td>\n",
              "      <td>0.786713</td>\n",
              "    </tr>\n",
              "    <tr>\n",
              "      <th>2004-03-11 22:00:00</th>\n",
              "      <td>2004-03-11</td>\n",
              "      <td>22:00:00</td>\n",
              "      <td>1332.50</td>\n",
              "      <td>8.175</td>\n",
              "      <td>63.400000</td>\n",
              "      <td>0.690484</td>\n",
              "      <td>1490.00</td>\n",
              "      <td>11.15</td>\n",
              "      <td>59.575001</td>\n",
              "      <td>0.788794</td>\n",
              "    </tr>\n",
              "  </tbody>\n",
              "</table>\n",
              "</div>\n",
              "      <button class=\"colab-df-convert\" onclick=\"convertToInteractive('df-ceac8374-036c-4aee-b82a-642dcf522536')\"\n",
              "              title=\"Convert this dataframe to an interactive table.\"\n",
              "              style=\"display:none;\">\n",
              "        \n",
              "  <svg xmlns=\"http://www.w3.org/2000/svg\" height=\"24px\"viewBox=\"0 0 24 24\"\n",
              "       width=\"24px\">\n",
              "    <path d=\"M0 0h24v24H0V0z\" fill=\"none\"/>\n",
              "    <path d=\"M18.56 5.44l.94 2.06.94-2.06 2.06-.94-2.06-.94-.94-2.06-.94 2.06-2.06.94zm-11 1L8.5 8.5l.94-2.06 2.06-.94-2.06-.94L8.5 2.5l-.94 2.06-2.06.94zm10 10l.94 2.06.94-2.06 2.06-.94-2.06-.94-.94-2.06-.94 2.06-2.06.94z\"/><path d=\"M17.41 7.96l-1.37-1.37c-.4-.4-.92-.59-1.43-.59-.52 0-1.04.2-1.43.59L10.3 9.45l-7.72 7.72c-.78.78-.78 2.05 0 2.83L4 21.41c.39.39.9.59 1.41.59.51 0 1.02-.2 1.41-.59l7.78-7.78 2.81-2.81c.8-.78.8-2.07 0-2.86zM5.41 20L4 18.59l7.72-7.72 1.47 1.35L5.41 20z\"/>\n",
              "  </svg>\n",
              "      </button>\n",
              "      \n",
              "  <style>\n",
              "    .colab-df-container {\n",
              "      display:flex;\n",
              "      flex-wrap:wrap;\n",
              "      gap: 12px;\n",
              "    }\n",
              "\n",
              "    .colab-df-convert {\n",
              "      background-color: #E8F0FE;\n",
              "      border: none;\n",
              "      border-radius: 50%;\n",
              "      cursor: pointer;\n",
              "      display: none;\n",
              "      fill: #1967D2;\n",
              "      height: 32px;\n",
              "      padding: 0 0 0 0;\n",
              "      width: 32px;\n",
              "    }\n",
              "\n",
              "    .colab-df-convert:hover {\n",
              "      background-color: #E2EBFA;\n",
              "      box-shadow: 0px 1px 2px rgba(60, 64, 67, 0.3), 0px 1px 3px 1px rgba(60, 64, 67, 0.15);\n",
              "      fill: #174EA6;\n",
              "    }\n",
              "\n",
              "    [theme=dark] .colab-df-convert {\n",
              "      background-color: #3B4455;\n",
              "      fill: #D2E3FC;\n",
              "    }\n",
              "\n",
              "    [theme=dark] .colab-df-convert:hover {\n",
              "      background-color: #434B5C;\n",
              "      box-shadow: 0px 1px 3px 1px rgba(0, 0, 0, 0.15);\n",
              "      filter: drop-shadow(0px 1px 2px rgba(0, 0, 0, 0.3));\n",
              "      fill: #FFFFFF;\n",
              "    }\n",
              "  </style>\n",
              "\n",
              "      <script>\n",
              "        const buttonEl =\n",
              "          document.querySelector('#df-ceac8374-036c-4aee-b82a-642dcf522536 button.colab-df-convert');\n",
              "        buttonEl.style.display =\n",
              "          google.colab.kernel.accessAllowed ? 'block' : 'none';\n",
              "\n",
              "        async function convertToInteractive(key) {\n",
              "          const element = document.querySelector('#df-ceac8374-036c-4aee-b82a-642dcf522536');\n",
              "          const dataTable =\n",
              "            await google.colab.kernel.invokeFunction('convertToInteractive',\n",
              "                                                     [key], {});\n",
              "          if (!dataTable) return;\n",
              "\n",
              "          const docLinkHtml = 'Like what you see? Visit the ' +\n",
              "            '<a target=\"_blank\" href=https://colab.research.google.com/notebooks/data_table.ipynb>data table notebook</a>'\n",
              "            + ' to learn more about interactive tables.';\n",
              "          element.innerHTML = '';\n",
              "          dataTable['output_type'] = 'display_data';\n",
              "          await google.colab.output.renderOutput(dataTable, element);\n",
              "          const docLink = document.createElement('div');\n",
              "          docLink.innerHTML = docLinkHtml;\n",
              "          element.appendChild(docLink);\n",
              "        }\n",
              "      </script>\n",
              "    </div>\n",
              "  </div>\n",
              "  "
            ]
          },
          "metadata": {},
          "execution_count": 40
        }
      ]
    },
    {
      "cell_type": "markdown",
      "source": [
        "# Modeling"
      ],
      "metadata": {
        "id": "sy-Fy5RB47pi"
      }
    },
    {
      "cell_type": "code",
      "source": [
        "def mean_absolute_percentage_error(actual, predicted):\n",
        "  mape = np.sum(np.abs((actual-predicted)/actual)) * 1/len(actual) * 100\n",
        "  return mape "
      ],
      "metadata": {
        "id": "4EMOK4WP49DP"
      },
      "execution_count": 42,
      "outputs": []
    },
    {
      "cell_type": "code",
      "source": [
        "def over_under_forecast(actual, predicted):\n",
        "    over_forecast = 0\n",
        "    under_forecast = 0\n",
        "    exact_forecast = 0\n",
        "    for i in range(len(actual)):\n",
        "        if actual[i] > predicted[i]:\n",
        "            under_forecast+=1\n",
        "        elif actual[i] < predicted[i]:\n",
        "            over_forecast += 1\n",
        "        else:\n",
        "              exact_forecast+=1\n",
        "    return (over_forecast, under_forecast, exact_forecast)"
      ],
      "metadata": {
        "id": "8eiPQj3C4_r8"
      },
      "execution_count": 43,
      "outputs": []
    },
    {
      "cell_type": "markdown",
      "source": [
        "### Multivariate Forecasting - Linear Regression and Random Forest with AH, RH and PT08.S4(NO2)"
      ],
      "metadata": {
        "id": "xT_YhGcdqWt8"
      }
    },
    {
      "cell_type": "code",
      "source": [
        "from sklearn.pipeline import Pipeline\n",
        "from sklearn.preprocessing import StandardScaler\n",
        "from sklearn.linear_model import LinearRegression\n",
        "from sklearn.tree import DecisionTreeRegressor\n",
        "from sklearn.ensemble import RandomForestRegressor\n",
        "from sklearn.metrics import mean_absolute_error, make_scorer\n",
        "from sklearn.model_selection import TimeSeriesSplit, RandomizedSearchCV, GridSearchCV, cross_val_score\n"
      ],
      "metadata": {
        "id": "9tiVdS6wqvW-"
      },
      "execution_count": 119,
      "outputs": []
    },
    {
      "cell_type": "code",
      "source": [
        "# Using lag features\n",
        "X = df[['PT08.S4_lag24', 'T_lag24', 'RH_lag24', 'AH_lag24']]\n",
        "y = df['T']"
      ],
      "metadata": {
        "id": "AOCKYfNPqyTO"
      },
      "execution_count": 45,
      "outputs": []
    },
    {
      "cell_type": "code",
      "source": [
        "X.shape"
      ],
      "metadata": {
        "colab": {
          "base_uri": "https://localhost:8080/"
        },
        "id": "5P8Xn8R_7-f4",
        "outputId": "1abd4aad-d736-4925-b149-3a913ad876e1"
      },
      "execution_count": 46,
      "outputs": [
        {
          "output_type": "execute_result",
          "data": {
            "text/plain": [
              "(9333, 4)"
            ]
          },
          "metadata": {},
          "execution_count": 46
        }
      ]
    },
    {
      "cell_type": "code",
      "source": [
        "# train_test_split\n",
        "train_X, train_y = X.iloc[:-1200], y.iloc[:-1200]\n",
        "test_X, test_y = X.iloc[-1200:], y.iloc[-1200:]"
      ],
      "metadata": {
        "id": "4AAQJBs4edtL"
      },
      "execution_count": 47,
      "outputs": []
    },
    {
      "cell_type": "code",
      "source": [
        "train_X.shape, test_X.shape"
      ],
      "metadata": {
        "colab": {
          "base_uri": "https://localhost:8080/"
        },
        "id": "PW9ZzeQYffT8",
        "outputId": "ccae2b5b-b30c-4f76-d725-849e50c418d5"
      },
      "execution_count": 48,
      "outputs": [
        {
          "output_type": "execute_result",
          "data": {
            "text/plain": [
              "((8133, 4), (1200, 4))"
            ]
          },
          "metadata": {},
          "execution_count": 48
        }
      ]
    },
    {
      "cell_type": "code",
      "source": [
        "# 5-fold cross validation\n",
        "tscv = TimeSeriesSplit(n_splits=5, test_size=1200)"
      ],
      "metadata": {
        "id": "q-TQb6bNsYgr"
      },
      "execution_count": 49,
      "outputs": []
    },
    {
      "cell_type": "code",
      "source": [
        "# Linear Regression\n",
        "avg_mape = []\n",
        "for fold, (train_index, test_index) in enumerate(tscv.split(train_X)):\n",
        "  print(\"Fold: {}\".format(fold))\n",
        "  print(\"\\tTRAIN indices:\", train_index)\n",
        "  print(\"\\tTEST indices:\", test_index)\n",
        "  X_train, X_test = train_X.iloc[train_index, :], train_X.iloc[test_index,:]\n",
        "  y_train, y_test = train_y.iloc[train_index], train_y.iloc[test_index]\n",
        "\n",
        "  # Construct a pipeline with standard scaler and Linear Regression\n",
        "  pipeline_lr = Pipeline(steps = [('scaler', StandardScaler()),\n",
        "                               ('lr', LinearRegression())])\n",
        "  pipeline_lr.fit(X_train, y_train)\n",
        "  y_pred = pipeline_lr.predict(X_test)\n",
        "  mae = mean_absolute_error(y_test, y_pred)\n",
        "  mape = mean_absolute_percentage_error(y_test, y_pred)\n",
        "  avg_mape.append(mape)\n",
        "  print('\\tMAE on test set: %.3f' %mae)\n",
        "  print('\\tMAPE on test set: %.3f%%' %mape)\n",
        "print('\\nAverage MAPE: %.3f%%' %np.array(avg_mape).mean())"
      ],
      "metadata": {
        "colab": {
          "base_uri": "https://localhost:8080/"
        },
        "id": "ydqhh4Pyk3Mn",
        "outputId": "6ee1014d-458e-4082-b46d-bdb474c8c814"
      },
      "execution_count": 91,
      "outputs": [
        {
          "output_type": "stream",
          "name": "stdout",
          "text": [
            "Fold: 0\n",
            "\tTRAIN indices: [   0    1    2 ... 2130 2131 2132]\n",
            "\tTEST indices: [2133 2134 2135 ... 3330 3331 3332]\n",
            "\tMAE on test set: 2.404\n",
            "\tMAPE on test set: 8.409%\n",
            "Fold: 1\n",
            "\tTRAIN indices: [   0    1    2 ... 3330 3331 3332]\n",
            "\tTEST indices: [3333 3334 3335 ... 4530 4531 4532]\n",
            "\tMAE on test set: 1.834\n",
            "\tMAPE on test set: 6.516%\n",
            "Fold: 2\n",
            "\tTRAIN indices: [   0    1    2 ... 4530 4531 4532]\n",
            "\tTEST indices: [4533 4534 4535 ... 5730 5731 5732]\n",
            "\tMAE on test set: 1.777\n",
            "\tMAPE on test set: 9.138%\n",
            "Fold: 3\n",
            "\tTRAIN indices: [   0    1    2 ... 5730 5731 5732]\n",
            "\tTEST indices: [5733 5734 5735 ... 6930 6931 6932]\n",
            "\tMAE on test set: 2.527\n",
            "\tMAPE on test set: 29.337%\n",
            "Fold: 4\n",
            "\tTRAIN indices: [   0    1    2 ... 6930 6931 6932]\n",
            "\tTEST indices: [6933 6934 6935 ... 8130 8131 8132]\n",
            "\tMAE on test set: 1.976\n",
            "\tMAPE on test set: 33.115%\n",
            "\n",
            "Average MAPE: 17.303%\n"
          ]
        }
      ]
    },
    {
      "cell_type": "code",
      "source": [
        "mean_absolute_percentage_error(pipeline_lr.predict(test_X), test_y)"
      ],
      "metadata": {
        "colab": {
          "base_uri": "https://localhost:8080/"
        },
        "id": "xHi0CyRXHQSJ",
        "outputId": "4743b235-a8ad-4ef0-e9eb-7b08b7485f07"
      },
      "execution_count": 109,
      "outputs": [
        {
          "output_type": "execute_result",
          "data": {
            "text/plain": [
              "39.27670137756768"
            ]
          },
          "metadata": {},
          "execution_count": 109
        }
      ]
    },
    {
      "cell_type": "code",
      "source": [
        "over_under_forecast(test_y, pipeline_lr.predict(test_X))"
      ],
      "metadata": {
        "colab": {
          "base_uri": "https://localhost:8080/"
        },
        "id": "mhpoAPwBMBCH",
        "outputId": "9bbf880b-fcaf-40f4-91e1-fd1632066878"
      },
      "execution_count": 120,
      "outputs": [
        {
          "output_type": "execute_result",
          "data": {
            "text/plain": [
              "(657, 543, 0)"
            ]
          },
          "metadata": {},
          "execution_count": 120
        }
      ]
    },
    {
      "cell_type": "code",
      "source": [
        "eval_score = make_scorer(mean_absolute_percentage_error)"
      ],
      "metadata": {
        "id": "_j1t3ez7Obay"
      },
      "execution_count": 121,
      "outputs": []
    },
    {
      "cell_type": "code",
      "source": [
        "# DecisionTree \n",
        "pipeline_tree = Pipeline(steps = [('scaler', StandardScaler()),\n",
        "                               ('dt', DecisionTreeRegressor(random_state=0))])\n",
        "params = {\n",
        "    'dt__criterion': ['absolute_error'],\n",
        "    'dt__max_depth': [10, 15, 20],\n",
        "    'dt__min_samples_split': [2, 5, 10],\n",
        "    'dt__max_features': ['sqrt']\n",
        "}\n",
        "# GridSearchCV for hyperparameter tuning\n",
        "gs = GridSearchCV(pipeline_tree, param_grid=params, cv=tscv, scoring=mean_absolute_percentage_error, verbose=1)\n",
        "gs.fit(train_X, train_y)\n",
        "best_model = gs.best_estimator_\n",
        "print('\\n',best_model)\n",
        "print(cross_val_score(best_model, train_X, train_y, cv=tscv, scoring=eval_score))\n",
        "print('\\nAverage MAE %.3f%%' %np.array(cross_val_score(best_model, train_X, train_y, cv=tscv, scoring=eval_score)).mean())"
      ],
      "metadata": {
        "colab": {
          "base_uri": "https://localhost:8080/"
        },
        "id": "Jua0yzBXM7v9",
        "outputId": "f4fe55b0-3120-48f3-992c-f5601c543326"
      },
      "execution_count": 126,
      "outputs": [
        {
          "output_type": "stream",
          "name": "stdout",
          "text": [
            "Fitting 5 folds for each of 9 candidates, totalling 45 fits\n",
            "\n",
            " Pipeline(steps=[('scaler', StandardScaler()),\n",
            "                ('dt',\n",
            "                 DecisionTreeRegressor(criterion='absolute_error', max_depth=10,\n",
            "                                       max_features='sqrt', random_state=0))])\n",
            "[11.4724561   8.81028812 11.32095108 41.83708003 51.38055943]\n",
            "\n",
            "Average MAE 24.964%\n"
          ]
        }
      ]
    },
    {
      "cell_type": "code",
      "source": [
        "mean_absolute_percentage_error(best_model.predict(test_X), test_y)"
      ],
      "metadata": {
        "colab": {
          "base_uri": "https://localhost:8080/"
        },
        "id": "WuV_zBBPOgxx",
        "outputId": "dfae23ba-7fe8-4797-f09e-d74fdb312667"
      },
      "execution_count": 127,
      "outputs": [
        {
          "output_type": "execute_result",
          "data": {
            "text/plain": [
              "29.249683804409415"
            ]
          },
          "metadata": {},
          "execution_count": 127
        }
      ]
    },
    {
      "cell_type": "code",
      "source": [
        "# Random Forest\n",
        "# empties the list\n",
        "avg_mape.clear()\n",
        "for fold, (train_index, test_index) in enumerate(tscv.split(train_X)):\n",
        "  print(\"Fold: {}\".format(fold))\n",
        "  print(\"\\tTRAIN indices:\", train_index)\n",
        "  print(\"\\tTEST indices:\", test_index)\n",
        "  X_train, X_test = train_X.iloc[train_index, :], train_X.iloc[test_index,:]\n",
        "  y_train, y_test = train_y.iloc[train_index], train_y.iloc[test_index]\n",
        "\n",
        "  # Construct a pipeline with standard scaler and RF\n",
        "  pipeline_rf = Pipeline(steps = [('scaler', StandardScaler()),\n",
        "                               ('rf', RandomForestRegressor(max_depth=10, \n",
        "                                                            random_state=0,\n",
        "                                                            min_samples_split=5,\n",
        "                                                            max_features = 'sqrt',\n",
        "                                                            n_estimators=100))])\n",
        "  pipeline_rf.fit(X_train, y_train)\n",
        "  y_pred = pipeline_rf.predict(X_test)\n",
        "  mae = mean_absolute_error(y_test, y_pred)\n",
        "  mape = mean_absolute_percentage_error(y_test, y_pred)\n",
        "  avg_mape.append(mape)\n",
        "  print('\\tMAE on test set: %.3f' %mae)\n",
        "  print('\\tMAPE on test set: %.3f%%' %mape)\n",
        "print(\"\\nAverage MAPE: %.3f%%\" %np.array(avg_mape).mean())   "
      ],
      "metadata": {
        "colab": {
          "base_uri": "https://localhost:8080/"
        },
        "id": "BbFg3QsEk4tE",
        "outputId": "279fa217-123d-4168-aec9-8fbcf04177ac"
      },
      "execution_count": 95,
      "outputs": [
        {
          "output_type": "stream",
          "name": "stdout",
          "text": [
            "Fold: 0\n",
            "\tTRAIN indices: [   0    1    2 ... 2130 2131 2132]\n",
            "\tTEST indices: [2133 2134 2135 ... 3330 3331 3332]\n",
            "\tMAE on test set: 3.211\n",
            "\tMAPE on test set: 10.913%\n",
            "Fold: 1\n",
            "\tTRAIN indices: [   0    1    2 ... 3330 3331 3332]\n",
            "\tTEST indices: [3333 3334 3335 ... 4530 4531 4532]\n",
            "\tMAE on test set: 2.094\n",
            "\tMAPE on test set: 7.387%\n",
            "Fold: 2\n",
            "\tTRAIN indices: [   0    1    2 ... 4530 4531 4532]\n",
            "\tTEST indices: [4533 4534 4535 ... 5730 5731 5732]\n",
            "\tMAE on test set: 1.876\n",
            "\tMAPE on test set: 9.603%\n",
            "Fold: 3\n",
            "\tTRAIN indices: [   0    1    2 ... 5730 5731 5732]\n",
            "\tTEST indices: [5733 5734 5735 ... 6930 6931 6932]\n",
            "\tMAE on test set: 3.042\n",
            "\tMAPE on test set: 40.335%\n",
            "Fold: 4\n",
            "\tTRAIN indices: [   0    1    2 ... 6930 6931 6932]\n",
            "\tTEST indices: [6933 6934 6935 ... 8130 8131 8132]\n",
            "\tMAE on test set: 2.366\n",
            "\tMAPE on test set: 46.953%\n",
            "\n",
            "Average MAPE: 23.038%\n"
          ]
        }
      ]
    },
    {
      "cell_type": "code",
      "source": [
        "mean_absolute_percentage_error(pipeline_rf.predict(test_X), test_y)"
      ],
      "metadata": {
        "colab": {
          "base_uri": "https://localhost:8080/"
        },
        "id": "avXhEPMtxIXj",
        "outputId": "8f8cbd99-3df0-4260-e033-3e117f21f39d"
      },
      "execution_count": 115,
      "outputs": [
        {
          "output_type": "execute_result",
          "data": {
            "text/plain": [
              "26.04178551039621"
            ]
          },
          "metadata": {},
          "execution_count": 115
        }
      ]
    },
    {
      "cell_type": "code",
      "source": [
        "over_under_forecast(test_y, pipeline_rf.predict(test_X))"
      ],
      "metadata": {
        "colab": {
          "base_uri": "https://localhost:8080/"
        },
        "id": "p-R7cSrYMKuj",
        "outputId": "eac4228d-ba61-4aa8-9fa0-b7eddff16381"
      },
      "execution_count": 116,
      "outputs": [
        {
          "output_type": "execute_result",
          "data": {
            "text/plain": [
              "(711, 489, 0)"
            ]
          },
          "metadata": {},
          "execution_count": 116
        }
      ]
    },
    {
      "cell_type": "code",
      "source": [
        "# RandomForest \n",
        "pipeline = Pipeline(steps = [('scaler', StandardScaler()),\n",
        "                               ('rf', RandomForestRegressor())])\n",
        "params = {\n",
        "    'rf__n_estimators': [50, 100, 120, 150],\n",
        "    'rf__max_depth': [10, 15, 20],\n",
        "    'rf__min_samples_split': [2, 5, 10]\n",
        "}\n",
        "# GridSearchCV for hyperparameter tuning \n",
        "# rs = RandomizedSearchCV(pipeline, param_distributions=params, cv=tscv, scoring=mean_absolute_percentage_error, random_state=0, verbose=1)\n",
        "gs = GridSearchCV(pipeline, param_grid=params, cv=tscv, scoring=mean_absolute_percentage_error, verbose=1)\n",
        "gs.fit(train_X, train_y)\n",
        "best_model = gs.best_estimator_\n",
        "print('\\n',best_model)\n",
        "print(cross_val_score(best_model, train_X, train_y, cv=tscv, scoring=eval_score))\n",
        "print('\\nAverage MAE %.3f%%' %np.array(cross_val_score(best_model, train_X, train_y, cv=tscv, scoring=eval_score)).mean())"
      ],
      "metadata": {
        "colab": {
          "base_uri": "https://localhost:8080/"
        },
        "id": "zwIuuWZ05_mX",
        "outputId": "8dd129ff-fa5c-421a-f0c9-27e56009760b"
      },
      "execution_count": 65,
      "outputs": [
        {
          "output_type": "stream",
          "name": "stdout",
          "text": [
            "Fitting 5 folds for each of 36 candidates, totalling 180 fits\n",
            "\n",
            " Pipeline(steps=[('scaler', StandardScaler()),\n",
            "                ('rf', RandomForestRegressor(max_depth=10, n_estimators=50))])\n",
            "[10.65826724  7.52754966 10.10440575 37.32212525 47.30761625]\n",
            "\n",
            "Average MAE 22.657%\n"
          ]
        }
      ]
    },
    {
      "cell_type": "code",
      "source": [
        "mean_absolute_percentage_error(best_model.predict(test_X), test_y)"
      ],
      "metadata": {
        "colab": {
          "base_uri": "https://localhost:8080/"
        },
        "id": "IN1dcc4vAMLm",
        "outputId": "16da73ff-75ae-4cc2-8813-d30f2cb75e41"
      },
      "execution_count": 117,
      "outputs": [
        {
          "output_type": "execute_result",
          "data": {
            "text/plain": [
              "25.1361955273507"
            ]
          },
          "metadata": {},
          "execution_count": 117
        }
      ]
    },
    {
      "cell_type": "code",
      "source": [
        "over_under_forecast(test_y, best_model.predict(test_X))"
      ],
      "metadata": {
        "colab": {
          "base_uri": "https://localhost:8080/"
        },
        "id": "_PFezLFfMT7n",
        "outputId": "1fd4df79-ff20-499d-fe2c-03cc1e48587d"
      },
      "execution_count": 118,
      "outputs": [
        {
          "output_type": "execute_result",
          "data": {
            "text/plain": [
              "(638, 562, 0)"
            ]
          },
          "metadata": {},
          "execution_count": 118
        }
      ]
    },
    {
      "cell_type": "code",
      "source": [
        "# print the indices of each fold\n",
        "# for fold_idx, (train_idx, test_idx) in enumerate(tscv.split(train_X)):\n",
        "#     print(\"Fold {}: \\n\\ttrain indices = {}, \\n\\ttest indices = {}\".format(fold_idx+1, train_idx, test_idx))"
      ],
      "metadata": {
        "id": "MmLSCKqdUznc"
      },
      "execution_count": 76,
      "outputs": []
    },
    {
      "cell_type": "code",
      "source": [
        "test_y.index"
      ],
      "metadata": {
        "colab": {
          "base_uri": "https://localhost:8080/"
        },
        "id": "ZIGa20WWIAzm",
        "outputId": "d3553c90-85f9-42e6-df3a-c0fdcd12d5df"
      },
      "execution_count": 83,
      "outputs": [
        {
          "output_type": "execute_result",
          "data": {
            "text/plain": [
              "DatetimeIndex(['2005-02-13 15:00:00', '2005-02-13 16:00:00',\n",
              "               '2005-02-13 17:00:00', '2005-02-13 18:00:00',\n",
              "               '2005-02-13 19:00:00', '2005-02-13 20:00:00',\n",
              "               '2005-02-13 21:00:00', '2005-02-13 22:00:00',\n",
              "               '2005-02-13 23:00:00', '2005-02-14 00:00:00',\n",
              "               ...\n",
              "               '2005-04-04 05:00:00', '2005-04-04 06:00:00',\n",
              "               '2005-04-04 07:00:00', '2005-04-04 08:00:00',\n",
              "               '2005-04-04 09:00:00', '2005-04-04 10:00:00',\n",
              "               '2005-04-04 11:00:00', '2005-04-04 12:00:00',\n",
              "               '2005-04-04 13:00:00', '2005-04-04 14:00:00'],\n",
              "              dtype='datetime64[ns]', name='DateTime', length=1200, freq=None)"
            ]
          },
          "metadata": {},
          "execution_count": 83
        }
      ]
    },
    {
      "cell_type": "code",
      "source": [
        "plt.figure(figsize=(15, 7))\n",
        "plt.plot(test_y.index, test_y.values, color='b')\n",
        "plt.plot(test_y.index, pipeline_lr.predict(test_X), color='y')\n",
        "# plt.plot(test_y.index, pipeline_rf.predict(test_X), color='r')\n",
        "# plt.plot(test_y.index, best_model.predict(test_X), color='c')\n",
        "# plt.legend(['Original Temperature Series', 'Linear Reg', 'Random Forest', 'RF after tuning hyperparameter'])"
      ],
      "metadata": {
        "id": "PuqhO3KaIHEq",
        "colab": {
          "base_uri": "https://localhost:8080/",
          "height": 446
        },
        "outputId": "ced5957a-bd25-48d9-fd09-af70c4a96ec6"
      },
      "execution_count": 110,
      "outputs": [
        {
          "output_type": "execute_result",
          "data": {
            "text/plain": [
              "[<matplotlib.lines.Line2D at 0x7fa9de2e2c10>]"
            ]
          },
          "metadata": {},
          "execution_count": 110
        },
        {
          "output_type": "display_data",
          "data": {
            "text/plain": [
              "<Figure size 1080x504 with 1 Axes>"
            ],
            "image/png": "[encoded data removed]"
          },
          "metadata": {
            "needs_background": "light"
          }
        }
      ]
    },
    {
      "cell_type": "code",
      "source": [
        "plt.figure(figsize=(15, 7))\n",
        "plt.plot(test_y.index, test_y.values, color='b')\n",
        "plt.plot(test_y.index, best_model.predict(test_X), color='c')"
      ],
      "metadata": {
        "colab": {
          "base_uri": "https://localhost:8080/",
          "height": 446
        },
        "id": "FcWDFUgvLmpZ",
        "outputId": "87f70057-11bb-4a72-a3f3-7467fc48224e"
      },
      "execution_count": 113,
      "outputs": [
        {
          "output_type": "execute_result",
          "data": {
            "text/plain": [
              "[<matplotlib.lines.Line2D at 0x7fa9dd745f10>]"
            ]
          },
          "metadata": {},
          "execution_count": 113
        },
        {
          "output_type": "display_data",
          "data": {
            "text/plain": [
              "<Figure size 1080x504 with 1 Axes>"
            ],
            "image/png": "[encoded data removed]"
          },
          "metadata": {
            "needs_background": "light"
          }
        }
      ]
    },
    {
      "cell_type": "markdown",
      "source": [
        "# Cyclic Features"
      ],
      "metadata": {
        "id": "A5_nh3EmZ73q"
      }
    },
    {
      "cell_type": "code",
      "source": [
        "plt.figure(figsize=(10,7))\n",
        "plt.plot(df.loc['2004-03-12 00:00:00':'2004-04-12 23:00:00'].index, \n",
        "                  df['T'].loc['2004-03-12 00:00:00':'2004-04-12 23:00:00'])"
      ],
      "metadata": {
        "id": "H6hy_iJpkD2_",
        "colab": {
          "base_uri": "https://localhost:8080/",
          "height": 446
        },
        "outputId": "8f2853f9-d073-4eff-9764-640abbc66775"
      },
      "execution_count": 277,
      "outputs": [
        {
          "output_type": "execute_result",
          "data": {
            "text/plain": [
              "[<matplotlib.lines.Line2D at 0x7f8bf42673a0>]"
            ]
          },
          "metadata": {},
          "execution_count": 277
        },
        {
          "output_type": "display_data",
          "data": {
            "text/plain": [
              "<Figure size 720x504 with 1 Axes>"
            ],
            "image/png": "[encoded data removed]"
          },
          "metadata": {
            "needs_background": "light"
          }
        }
      ]
    },
    {
      "cell_type": "code",
      "source": [
        "df['T'].max()"
      ],
      "metadata": {
        "id": "eUjfd9UA2bAv"
      },
      "execution_count": null,
      "outputs": []
    },
    {
      "cell_type": "code",
      "source": [
        "def cyclic_transform(data, col):\n",
        "  max_val = data[col].max()\n",
        "  col_norm = 2 * np.pi * data[col]/max_val\n",
        "  df[col + '_sin'] = np.sin(col_norm)\n",
        "  df[col + '_cos'] = np.cos(col_norm)\n",
        "  return data"
      ],
      "metadata": {
        "id": "AyTvzTKROwzX"
      },
      "execution_count": null,
      "outputs": []
    },
    {
      "cell_type": "code",
      "source": [
        "df['Hour'] = df.index.hour\n",
        "df['Day'] = df.index.day\n",
        "df['Month'] = df.index.month"
      ],
      "metadata": {
        "id": "zVcnW45low-E"
      },
      "execution_count": null,
      "outputs": []
    },
    {
      "cell_type": "code",
      "source": [
        "df = cyclic_transform(df, 'Hour')\n",
        "df = cyclic_transform(df, 'Day')\n",
        "df = cyclic_transform(df, 'Month')"
      ],
      "metadata": {
        "id": "cCquF5xH3Wiu"
      },
      "execution_count": null,
      "outputs": []
    },
    {
      "cell_type": "code",
      "source": [],
      "metadata": {
        "id": "w16t_NQlpqea"
      },
      "execution_count": null,
      "outputs": []
    },
    {
      "cell_type": "code",
      "source": [],
      "metadata": {
        "id": "Eiz0o-Q0prY-"
      },
      "execution_count": null,
      "outputs": []
    },
    {
      "cell_type": "code",
      "source": [],
      "metadata": {
        "id": "5U4A5xYhhs4p"
      },
      "execution_count": null,
      "outputs": []
    },
    {
      "cell_type": "code",
      "source": [
        "# df['Hour_sin'][0:350].plot()\n",
        "# plt.ylabel('T_sin')"
      ],
      "metadata": {
        "id": "S7aEKwYHOsVh"
      },
      "execution_count": null,
      "outputs": []
    },
    {
      "cell_type": "code",
      "source": [
        "# # Trend of Temperature T by hour of the day, day of the week, month and season\n",
        "# df['Hour'] = df.index.hour\n",
        "# df['Week Day'] = df.index.day_name()\n",
        "# df['Month'] = df.index.month\n",
        "\n",
        "# # Extract season from pandas date\n",
        "# def season(date):\n",
        "#   year = str(date.year)\n",
        "#   seasons = {'spring': pd.date_range(start='28-03-'+year, end = '27-06-'+year),\n",
        "#              'summer': pd.date_range(start='28-06-'+year, end='29-09-'+year),\n",
        "#              'autum': pd.date_range(start='30-09-'+year, end='28-12-'+year)\n",
        "#              }\n",
        "#   if date in seasons['spring']:\n",
        "#     return 'spring'\n",
        "#   if date in seasons['summer']:\n",
        "#     return 'summer'\n",
        "#   if date in seasons['autum']:\n",
        "#     return 'autum'\n",
        "#   else:\n",
        "#     return 'winter'\n",
        "\n",
        "# df['Season'] = df['Date'].map(season)\n",
        "\n",
        "# fig, axs = plt.subplots(ncols=2, nrows=2, figsize=(15, 8))\n",
        "# index = 0\n",
        "# axs = axs.flatten()\n",
        "# for col, val in df.items():\n",
        "#   if col in ['Hour', 'Week Day', 'Month', 'Season']:\n",
        "#     sns.boxplot(y='T', x=col, data=df, ax=axs[index]).set_title('Trend of temperature over {}'.format(col))\n",
        "#     index += 1\n",
        "# plt.subplots_adjust(hspace=0.5)\n",
        "# plt.tight_layout()\n",
        "# plt.show()\n"
      ],
      "metadata": {
        "id": "RMTS5JQY31AB"
      },
      "execution_count": null,
      "outputs": []
    }
  ]
}